{
  "cells": [
    {
      "cell_type": "code",
      "execution_count": null,
      "metadata": {
        "colab": {
          "base_uri": "https://localhost:8080/"
        },
        "id": "9VQjKXJnojzV",
        "outputId": "ca9e4475-5c5c-4632-8c2f-9e8ae435ee90"
      },
      "outputs": [
        {
          "output_type": "stream",
          "name": "stdout",
          "text": [
            "Mounted at /content/drive\n"
          ]
        }
      ],
      "source": [
        "# Attach to the Google drive persistent storage\n",
        "from google.colab import drive\n",
        "drive.mount('/content/drive')\n",
        "\n",
        "# Create the folder for saving models if it doesn't already exist\n",
        "import os\n",
        "from os import path\n",
        "os.chdir('/content/drive/MyDrive')\n",
        "if not path.exists('/download_models'):\n",
        "  os.mkdir('/download_models')"
      ]
    },
    {
      "cell_type": "markdown",
      "metadata": {
        "id": "LtL71rUgcQBu"
      },
      "source": [
        "# Multilingual Tweet Intimacy Analysis\n",
        "\n",
        "## Introduction\n",
        "\n",
        "Dataset created by: Jiaxin Pei, Francesco Barbieri, Vítor Silva, Maarten Bos, Yozen Liu, Leonardo Neves, David Jurgens\n",
        "\n",
        "The goal of this project is to train machine learning (ML) models to recognize \"intimacy\" in text communications. The authors of this paper define intimacy as \"closeness and interdependence, self-disclosure, and warmth or affection” expressed in the language used to communicate.\n",
        "\n",
        "We have used two datasets, Reddit questions and Multilingual tweets, in this notebook. They have both been compiled by Pei et al. and are used to study if knowledge about intimacy levels of text communication can be transferred easily from tweets to questions or vice versa. "
      ]
    },
    {
      "cell_type": "markdown",
      "metadata": {
        "id": "F7y6c09Dof8j"
      },
      "source": [
        "Install dependencies"
      ]
    },
    {
      "cell_type": "code",
      "execution_count": null,
      "metadata": {
        "colab": {
          "base_uri": "https://localhost:8080/"
        },
        "id": "HBMquumpocGx",
        "outputId": "e861a2fe-6023-4c2f-c1dc-9b7f4ae81763"
      },
      "outputs": [
        {
          "output_type": "stream",
          "name": "stdout",
          "text": [
            "Looking in indexes: https://pypi.org/simple, https://us-python.pkg.dev/colab-wheels/public/simple/\n",
            "Requirement already satisfied: pip in /usr/local/lib/python3.10/dist-packages (23.1.2)\n",
            "Looking in indexes: https://pypi.org/simple, https://us-python.pkg.dev/colab-wheels/public/simple/\n",
            "Collecting transformers\n",
            "  Downloading transformers-4.29.1-py3-none-any.whl (7.1 MB)\n",
            "\u001b[2K     \u001b[90m━━━━━━━━━━━━━━━━━━━━━━━━━━━━━━━━━━━━━━━━\u001b[0m \u001b[32m7.1/7.1 MB\u001b[0m \u001b[31m88.0 MB/s\u001b[0m eta \u001b[36m0:00:00\u001b[0m\n",
            "\u001b[?25hRequirement already satisfied: filelock in /usr/local/lib/python3.10/dist-packages (from transformers) (3.12.0)\n",
            "Collecting huggingface-hub<1.0,>=0.14.1 (from transformers)\n",
            "  Downloading huggingface_hub-0.14.1-py3-none-any.whl (224 kB)\n",
            "\u001b[2K     \u001b[90m━━━━━━━━━━━━━━━━━━━━━━━━━━━━━━━━━━━━━━\u001b[0m \u001b[32m224.5/224.5 kB\u001b[0m \u001b[31m28.1 MB/s\u001b[0m eta \u001b[36m0:00:00\u001b[0m\n",
            "\u001b[?25hRequirement already satisfied: numpy>=1.17 in /usr/local/lib/python3.10/dist-packages (from transformers) (1.22.4)\n",
            "Requirement already satisfied: packaging>=20.0 in /usr/local/lib/python3.10/dist-packages (from transformers) (23.1)\n",
            "Requirement already satisfied: pyyaml>=5.1 in /usr/local/lib/python3.10/dist-packages (from transformers) (6.0)\n",
            "Requirement already satisfied: regex!=2019.12.17 in /usr/local/lib/python3.10/dist-packages (from transformers) (2022.10.31)\n",
            "Requirement already satisfied: requests in /usr/local/lib/python3.10/dist-packages (from transformers) (2.27.1)\n",
            "Collecting tokenizers!=0.11.3,<0.14,>=0.11.1 (from transformers)\n",
            "  Downloading tokenizers-0.13.3-cp310-cp310-manylinux_2_17_x86_64.manylinux2014_x86_64.whl (7.8 MB)\n",
            "\u001b[2K     \u001b[90m━━━━━━━━━━━━━━━━━━━━━━━━━━━━━━━━━━━━━━━━\u001b[0m \u001b[32m7.8/7.8 MB\u001b[0m \u001b[31m110.7 MB/s\u001b[0m eta \u001b[36m0:00:00\u001b[0m\n",
            "\u001b[?25hRequirement already satisfied: tqdm>=4.27 in /usr/local/lib/python3.10/dist-packages (from transformers) (4.65.0)\n",
            "Requirement already satisfied: fsspec in /usr/local/lib/python3.10/dist-packages (from huggingface-hub<1.0,>=0.14.1->transformers) (2023.4.0)\n",
            "Requirement already satisfied: typing-extensions>=3.7.4.3 in /usr/local/lib/python3.10/dist-packages (from huggingface-hub<1.0,>=0.14.1->transformers) (4.5.0)\n",
            "Requirement already satisfied: urllib3<1.27,>=1.21.1 in /usr/local/lib/python3.10/dist-packages (from requests->transformers) (1.26.15)\n",
            "Requirement already satisfied: certifi>=2017.4.17 in /usr/local/lib/python3.10/dist-packages (from requests->transformers) (2022.12.7)\n",
            "Requirement already satisfied: charset-normalizer~=2.0.0 in /usr/local/lib/python3.10/dist-packages (from requests->transformers) (2.0.12)\n",
            "Requirement already satisfied: idna<4,>=2.5 in /usr/local/lib/python3.10/dist-packages (from requests->transformers) (3.4)\n",
            "Installing collected packages: tokenizers, huggingface-hub, transformers\n",
            "Successfully installed huggingface-hub-0.14.1 tokenizers-0.13.3 transformers-4.29.1\n",
            "Looking in indexes: https://pypi.org/simple, https://us-python.pkg.dev/colab-wheels/public/simple/\n",
            "Requirement already satisfied: tqdm in /usr/local/lib/python3.10/dist-packages (4.65.0)\n"
          ]
        }
      ],
      "source": [
        "! pip install --upgrade pip\n",
        "! pip install transformers\n",
        "! pip install tqdm"
      ]
    },
    {
      "cell_type": "markdown",
      "metadata": {
        "id": "kpHFYYTKKuLP"
      },
      "source": [
        "## Data"
      ]
    },
    {
      "cell_type": "markdown",
      "metadata": {
        "id": "b0oPGqR4Hq_r"
      },
      "source": [
        "Downloading the Twitter dataset from the Multilingual Tweet Intimacy Analysis Codalab competition ([source](https://codalab.lisn.upsaclay.fr/competitions/7096#learn_the_details-overview))."
      ]
    },
    {
      "cell_type": "code",
      "execution_count": null,
      "metadata": {
        "id": "_5UYoLaAaF5E",
        "colab": {
          "base_uri": "https://localhost:8080/"
        },
        "outputId": "53b214cf-818d-4f40-93a2-a0f97458e83b"
      },
      "outputs": [
        {
          "output_type": "stream",
          "name": "stdout",
          "text": [
            "--2023-05-13 13:05:07--  https://raw.githubusercontent.com/aishafarooque/Tweet-Intimacy-Analysis/main/train.csv\n",
            "Resolving raw.githubusercontent.com (raw.githubusercontent.com)... 185.199.108.133, 185.199.109.133, 185.199.110.133, ...\n",
            "Connecting to raw.githubusercontent.com (raw.githubusercontent.com)|185.199.108.133|:443... connected.\n",
            "HTTP request sent, awaiting response... 200 OK\n",
            "Length: 813066 (794K) [text/plain]\n",
            "Saving to: ‘/content/train.csv’\n",
            "\n",
            "train.csv           100%[===================>] 794.01K  --.-KB/s    in 0.005s  \n",
            "\n",
            "2023-05-13 13:05:08 (156 MB/s) - ‘/content/train.csv’ saved [813066/813066]\n",
            "\n"
          ]
        }
      ],
      "source": [
        "# Remove Twitter's train.csv if it already exists\n",
        "! rm -rf train.csv\n",
        "\n",
        "# Download Twitter's training data\n",
        "! wget -P /content https://raw.githubusercontent.com/aishafarooque/Tweet-Intimacy-Analysis/main/train.csv\n",
        "\n",
        "# Rename train.csv -> twitter_train.csv for more clarity\n",
        "! mv /content/train.csv /content/twitter_train.csv"
      ]
    },
    {
      "cell_type": "markdown",
      "metadata": {
        "id": "nDC_-zTmH4-X"
      },
      "source": [
        "Downloading the Reddit dataset from the author's GitHub repository: Quantifying-Intimacy-in-Language\n",
        " ([source](https://github.com/Jiaxin-Pei/Quantifying-Intimacy-in-Language/blob/main/data/annotated_question_intimacy_data.zip))."
      ]
    },
    {
      "cell_type": "code",
      "execution_count": null,
      "metadata": {
        "id": "bWDkJH8tH_tD",
        "colab": {
          "base_uri": "https://localhost:8080/"
        },
        "outputId": "ada2824a-0685-412f-f1bc-a7547f62430b"
      },
      "outputs": [
        {
          "output_type": "stream",
          "name": "stdout",
          "text": [
            "--2023-05-13 13:05:08--  https://raw.githubusercontent.com/Jiaxin%2DPei/Quantifying%2DIntimacy%2Din%2DLanguage/main/data/annotated_question_intimacy_data.zip\n",
            "Resolving raw.githubusercontent.com (raw.githubusercontent.com)... 185.199.108.133, 185.199.109.133, 185.199.110.133, ...\n",
            "Connecting to raw.githubusercontent.com (raw.githubusercontent.com)|185.199.108.133|:443... connected.\n",
            "HTTP request sent, awaiting response... 200 OK\n",
            "Length: 94741 (93K) [application/zip]\n",
            "Saving to: ‘/content/annotated_question_intimacy_data.zip’\n",
            "\n",
            "annotated_question_ 100%[===================>]  92.52K  --.-KB/s    in 0.002s  \n",
            "\n",
            "2023-05-13 13:05:08 (41.0 MB/s) - ‘/content/annotated_question_intimacy_data.zip’ saved [94741/94741]\n",
            "\n",
            "Archive:  /content/annotated_question_intimacy_data.zip\n",
            "   creating: /content/annotated_question_intimacy_data/\n",
            "  inflating: /content/annotated_question_intimacy_data/final_train.txt  \n",
            "   creating: /content/__MACOSX/\n",
            "   creating: /content/__MACOSX/annotated_question_intimacy_data/\n",
            "  inflating: /content/__MACOSX/annotated_question_intimacy_data/._final_train.txt  \n",
            "  inflating: /content/annotated_question_intimacy_data/final_val.txt  \n",
            "  inflating: /content/__MACOSX/annotated_question_intimacy_data/._final_val.txt  \n",
            "  inflating: /content/annotated_question_intimacy_data/final_test.txt  \n",
            "  inflating: /content/__MACOSX/annotated_question_intimacy_data/._final_test.txt  \n",
            "  inflating: /content/annotated_question_intimacy_data/final_external.txt  \n"
          ]
        }
      ],
      "source": [
        "# Sanitize working directory\n",
        "! rm -rf /content/__MACOSX\n",
        "! rm -rf /content/annotated_question_intimacy_data\n",
        "\n",
        "# Removing the .zip file if it already exists.\n",
        "! rm -rf /content/annotated_question_intimacy_data.zip\n",
        "\n",
        "# Download the dataset from the author's GitHub repository.\n",
        "! wget -P /content https://raw.githubusercontent.com/Jiaxin%2DPei/Quantifying%2DIntimacy%2Din%2DLanguage/main/data/annotated_question_intimacy_data.zip\n",
        "\n",
        "# Unzip the file. \n",
        "! unzip /content/annotated_question_intimacy_data.zip -d /content/"
      ]
    },
    {
      "cell_type": "markdown",
      "metadata": {
        "id": "Opsn06XGc9z5"
      },
      "source": [
        "## Data fact study"
      ]
    },
    {
      "cell_type": "markdown",
      "metadata": {
        "id": "mv0p2FnOS2XK"
      },
      "source": [
        "### Twitter Dataset"
      ]
    },
    {
      "cell_type": "markdown",
      "metadata": {
        "id": "z0UHCkZzMSso"
      },
      "source": [
        "The Twitter dataset has a total of 9491 rows and 3 columns which are:\n",
        "* Tweet - Textual content of the tweet\n",
        "* Intimacy Label - Intimacy score of the tweet, ranging from 1 (least intimate) to 5 (most intimate).\n",
        "* Language - The language the tweet is written in. There are six languages in this datasset:  English, Spanish, Italian, Portuguese, French, and Chinese."
      ]
    },
    {
      "cell_type": "code",
      "execution_count": null,
      "metadata": {
        "colab": {
          "base_uri": "https://localhost:8080/"
        },
        "id": "eKCYp1TGbX7i",
        "outputId": "2bdca9ab-55f2-412a-db86-82e8da4f99d2"
      },
      "outputs": [
        {
          "output_type": "stream",
          "name": "stdout",
          "text": [
            "Dataset size: 9491 \n",
            "\n",
            "<class 'pandas.core.frame.DataFrame'>\n",
            "RangeIndex: 9491 entries, 0 to 9490\n",
            "Data columns (total 3 columns):\n",
            " #   Column    Non-Null Count  Dtype  \n",
            "---  ------    --------------  -----  \n",
            " 0   document  9491 non-null   object \n",
            " 1   label     9491 non-null   float64\n",
            " 2   language  9491 non-null   object \n",
            "dtypes: float64(1), object(2)\n",
            "memory usage: 222.6+ KB\n"
          ]
        }
      ],
      "source": [
        "import pandas as pd\n",
        "\n",
        "twitter_df_train = pd.read_csv('/content/twitter_train.csv', on_bad_lines='skip')\n",
        "twitter_df_train = twitter_df_train.rename(columns={'text': 'document', 'label': 'label'})\n",
        "\n",
        "print(\"Dataset size:\", len(twitter_df_train), '\\n')\n",
        "twitter_df_train.info()"
      ]
    },
    {
      "cell_type": "code",
      "execution_count": null,
      "metadata": {
        "id": "Sh0Jytk4MNHZ",
        "colab": {
          "base_uri": "https://localhost:8080/",
          "height": 206
        },
        "outputId": "cd4c60b2-cc40-4442-a311-b433ee1871bc"
      },
      "outputs": [
        {
          "output_type": "execute_result",
          "data": {
            "text/plain": [
              "                                               document     label    language\n",
              "4460        caralho, é hoje mané 23 de novembro de 2019  1.600000  Portuguese\n",
              "142   I vote for cardigan by taylor swift for the Be...  1.200000     English\n",
              "6952  Si elle ne vous pousse pas à atteindre vos obj...  2.000000      French\n",
              "4200  @user vamos matar essas saudades depois da qua...  3.750000  Portuguese\n",
              "1514  Would God be pleased if you were working to ha...  1.333333     English"
            ],
            "text/html": [
              "\n",
              "  <div id=\"df-1ff47b25-5c5c-45aa-a5cb-d20fbc41c457\">\n",
              "    <div class=\"colab-df-container\">\n",
              "      <div>\n",
              "<style scoped>\n",
              "    .dataframe tbody tr th:only-of-type {\n",
              "        vertical-align: middle;\n",
              "    }\n",
              "\n",
              "    .dataframe tbody tr th {\n",
              "        vertical-align: top;\n",
              "    }\n",
              "\n",
              "    .dataframe thead th {\n",
              "        text-align: right;\n",
              "    }\n",
              "</style>\n",
              "<table border=\"1\" class=\"dataframe\">\n",
              "  <thead>\n",
              "    <tr style=\"text-align: right;\">\n",
              "      <th></th>\n",
              "      <th>document</th>\n",
              "      <th>label</th>\n",
              "      <th>language</th>\n",
              "    </tr>\n",
              "  </thead>\n",
              "  <tbody>\n",
              "    <tr>\n",
              "      <th>4460</th>\n",
              "      <td>caralho, é hoje mané 23 de novembro de 2019</td>\n",
              "      <td>1.600000</td>\n",
              "      <td>Portuguese</td>\n",
              "    </tr>\n",
              "    <tr>\n",
              "      <th>142</th>\n",
              "      <td>I vote for cardigan by taylor swift for the Be...</td>\n",
              "      <td>1.200000</td>\n",
              "      <td>English</td>\n",
              "    </tr>\n",
              "    <tr>\n",
              "      <th>6952</th>\n",
              "      <td>Si elle ne vous pousse pas à atteindre vos obj...</td>\n",
              "      <td>2.000000</td>\n",
              "      <td>French</td>\n",
              "    </tr>\n",
              "    <tr>\n",
              "      <th>4200</th>\n",
              "      <td>@user vamos matar essas saudades depois da qua...</td>\n",
              "      <td>3.750000</td>\n",
              "      <td>Portuguese</td>\n",
              "    </tr>\n",
              "    <tr>\n",
              "      <th>1514</th>\n",
              "      <td>Would God be pleased if you were working to ha...</td>\n",
              "      <td>1.333333</td>\n",
              "      <td>English</td>\n",
              "    </tr>\n",
              "  </tbody>\n",
              "</table>\n",
              "</div>\n",
              "      <button class=\"colab-df-convert\" onclick=\"convertToInteractive('df-1ff47b25-5c5c-45aa-a5cb-d20fbc41c457')\"\n",
              "              title=\"Convert this dataframe to an interactive table.\"\n",
              "              style=\"display:none;\">\n",
              "        \n",
              "  <svg xmlns=\"http://www.w3.org/2000/svg\" height=\"24px\"viewBox=\"0 0 24 24\"\n",
              "       width=\"24px\">\n",
              "    <path d=\"M0 0h24v24H0V0z\" fill=\"none\"/>\n",
              "    <path d=\"M18.56 5.44l.94 2.06.94-2.06 2.06-.94-2.06-.94-.94-2.06-.94 2.06-2.06.94zm-11 1L8.5 8.5l.94-2.06 2.06-.94-2.06-.94L8.5 2.5l-.94 2.06-2.06.94zm10 10l.94 2.06.94-2.06 2.06-.94-2.06-.94-.94-2.06-.94 2.06-2.06.94z\"/><path d=\"M17.41 7.96l-1.37-1.37c-.4-.4-.92-.59-1.43-.59-.52 0-1.04.2-1.43.59L10.3 9.45l-7.72 7.72c-.78.78-.78 2.05 0 2.83L4 21.41c.39.39.9.59 1.41.59.51 0 1.02-.2 1.41-.59l7.78-7.78 2.81-2.81c.8-.78.8-2.07 0-2.86zM5.41 20L4 18.59l7.72-7.72 1.47 1.35L5.41 20z\"/>\n",
              "  </svg>\n",
              "      </button>\n",
              "      \n",
              "  <style>\n",
              "    .colab-df-container {\n",
              "      display:flex;\n",
              "      flex-wrap:wrap;\n",
              "      gap: 12px;\n",
              "    }\n",
              "\n",
              "    .colab-df-convert {\n",
              "      background-color: #E8F0FE;\n",
              "      border: none;\n",
              "      border-radius: 50%;\n",
              "      cursor: pointer;\n",
              "      display: none;\n",
              "      fill: #1967D2;\n",
              "      height: 32px;\n",
              "      padding: 0 0 0 0;\n",
              "      width: 32px;\n",
              "    }\n",
              "\n",
              "    .colab-df-convert:hover {\n",
              "      background-color: #E2EBFA;\n",
              "      box-shadow: 0px 1px 2px rgba(60, 64, 67, 0.3), 0px 1px 3px 1px rgba(60, 64, 67, 0.15);\n",
              "      fill: #174EA6;\n",
              "    }\n",
              "\n",
              "    [theme=dark] .colab-df-convert {\n",
              "      background-color: #3B4455;\n",
              "      fill: #D2E3FC;\n",
              "    }\n",
              "\n",
              "    [theme=dark] .colab-df-convert:hover {\n",
              "      background-color: #434B5C;\n",
              "      box-shadow: 0px 1px 3px 1px rgba(0, 0, 0, 0.15);\n",
              "      filter: drop-shadow(0px 1px 2px rgba(0, 0, 0, 0.3));\n",
              "      fill: #FFFFFF;\n",
              "    }\n",
              "  </style>\n",
              "\n",
              "      <script>\n",
              "        const buttonEl =\n",
              "          document.querySelector('#df-1ff47b25-5c5c-45aa-a5cb-d20fbc41c457 button.colab-df-convert');\n",
              "        buttonEl.style.display =\n",
              "          google.colab.kernel.accessAllowed ? 'block' : 'none';\n",
              "\n",
              "        async function convertToInteractive(key) {\n",
              "          const element = document.querySelector('#df-1ff47b25-5c5c-45aa-a5cb-d20fbc41c457');\n",
              "          const dataTable =\n",
              "            await google.colab.kernel.invokeFunction('convertToInteractive',\n",
              "                                                     [key], {});\n",
              "          if (!dataTable) return;\n",
              "\n",
              "          const docLinkHtml = 'Like what you see? Visit the ' +\n",
              "            '<a target=\"_blank\" href=https://colab.research.google.com/notebooks/data_table.ipynb>data table notebook</a>'\n",
              "            + ' to learn more about interactive tables.';\n",
              "          element.innerHTML = '';\n",
              "          dataTable['output_type'] = 'display_data';\n",
              "          await google.colab.output.renderOutput(dataTable, element);\n",
              "          const docLink = document.createElement('div');\n",
              "          docLink.innerHTML = docLinkHtml;\n",
              "          element.appendChild(docLink);\n",
              "        }\n",
              "      </script>\n",
              "    </div>\n",
              "  </div>\n",
              "  "
            ]
          },
          "metadata": {},
          "execution_count": 6
        }
      ],
      "source": [
        "twitter_df_train.sample(5)"
      ]
    },
    {
      "cell_type": "markdown",
      "metadata": {
        "id": "yhpoAUc_P1y3"
      },
      "source": [
        "Looking at the distribution of tweets in the dataset we can see that, approximately, there are equal number of tweets across all six languages."
      ]
    },
    {
      "cell_type": "code",
      "execution_count": null,
      "metadata": {
        "id": "aJQ8hf5OP1Hs",
        "colab": {
          "base_uri": "https://localhost:8080/",
          "height": 237
        },
        "outputId": "9348b73b-12e5-441c-dbaf-6e43d7544257"
      },
      "outputs": [
        {
          "output_type": "execute_result",
          "data": {
            "text/plain": [
              "<pandas.io.formats.style.Styler at 0x7f70228b35b0>"
            ],
            "text/html": [
              "<style type=\"text/css\">\n",
              "#T_b0f09_row0_col1, #T_b0f09_row1_col1 {\n",
              "  background-color: #023858;\n",
              "  color: #f1f1f1;\n",
              "}\n",
              "#T_b0f09_row2_col1 {\n",
              "  background-color: #034871;\n",
              "  color: #f1f1f1;\n",
              "}\n",
              "#T_b0f09_row3_col1 {\n",
              "  background-color: #04598c;\n",
              "  color: #f1f1f1;\n",
              "}\n",
              "#T_b0f09_row4_col1 {\n",
              "  background-color: #045c90;\n",
              "  color: #f1f1f1;\n",
              "}\n",
              "#T_b0f09_row5_col1 {\n",
              "  background-color: #fff7fb;\n",
              "  color: #000000;\n",
              "}\n",
              "</style>\n",
              "<table id=\"T_b0f09\" class=\"dataframe\">\n",
              "  <thead>\n",
              "    <tr>\n",
              "      <th class=\"blank level0\" >&nbsp;</th>\n",
              "      <th id=\"T_b0f09_level0_col0\" class=\"col_heading level0 col0\" >language</th>\n",
              "      <th id=\"T_b0f09_level0_col1\" class=\"col_heading level0 col1\" >document</th>\n",
              "    </tr>\n",
              "  </thead>\n",
              "  <tbody>\n",
              "    <tr>\n",
              "      <th id=\"T_b0f09_level0_row0\" class=\"row_heading level0 row0\" >0</th>\n",
              "      <td id=\"T_b0f09_row0_col0\" class=\"data row0 col0\" >Chinese</td>\n",
              "      <td id=\"T_b0f09_row0_col1\" class=\"data row0 col1\" >1596</td>\n",
              "    </tr>\n",
              "    <tr>\n",
              "      <th id=\"T_b0f09_level0_row1\" class=\"row_heading level0 row1\" >4</th>\n",
              "      <td id=\"T_b0f09_row1_col0\" class=\"data row1 col0\" >Portuguese</td>\n",
              "      <td id=\"T_b0f09_row1_col1\" class=\"data row1 col1\" >1596</td>\n",
              "    </tr>\n",
              "    <tr>\n",
              "      <th id=\"T_b0f09_level0_row2\" class=\"row_heading level0 row2\" >5</th>\n",
              "      <td id=\"T_b0f09_row2_col0\" class=\"data row2 col0\" >Spanish</td>\n",
              "      <td id=\"T_b0f09_row2_col1\" class=\"data row2 col1\" >1592</td>\n",
              "    </tr>\n",
              "    <tr>\n",
              "      <th id=\"T_b0f09_level0_row3\" class=\"row_heading level0 row3\" >2</th>\n",
              "      <td id=\"T_b0f09_row3_col0\" class=\"data row3 col0\" >French</td>\n",
              "      <td id=\"T_b0f09_row3_col1\" class=\"data row3 col1\" >1588</td>\n",
              "    </tr>\n",
              "    <tr>\n",
              "      <th id=\"T_b0f09_level0_row4\" class=\"row_heading level0 row4\" >1</th>\n",
              "      <td id=\"T_b0f09_row4_col0\" class=\"data row4 col0\" >English</td>\n",
              "      <td id=\"T_b0f09_row4_col1\" class=\"data row4 col1\" >1587</td>\n",
              "    </tr>\n",
              "    <tr>\n",
              "      <th id=\"T_b0f09_level0_row5\" class=\"row_heading level0 row5\" >3</th>\n",
              "      <td id=\"T_b0f09_row5_col0\" class=\"data row5 col0\" >Italian</td>\n",
              "      <td id=\"T_b0f09_row5_col1\" class=\"data row5 col1\" >1532</td>\n",
              "    </tr>\n",
              "  </tbody>\n",
              "</table>\n"
            ]
          },
          "metadata": {},
          "execution_count": 7
        }
      ],
      "source": [
        "tweet_distribution = twitter_df_train.groupby('language').count()['document']\\\n",
        "                      .reset_index().sort_values(by='document',ascending=False)\n",
        "tweet_distribution.style.background_gradient()"
      ]
    },
    {
      "cell_type": "markdown",
      "metadata": {
        "id": "-ILpCzzegdmC"
      },
      "source": [
        "### Reddit Dataset"
      ]
    },
    {
      "cell_type": "markdown",
      "metadata": {
        "id": "SPYMYQV6kWDA"
      },
      "source": [
        "The Reddit dataset has a total of 1797 rows and 2 columns which are:\n",
        "* Question - Textual content of the Reddit question in English\n",
        "* Intimacy Score - Intimacy score of the tweet, ranging from -1 (least intimate) to 1 (most intimate)."
      ]
    },
    {
      "cell_type": "code",
      "execution_count": null,
      "metadata": {
        "id": "Eq7g0U-gjApY",
        "colab": {
          "base_uri": "https://localhost:8080/"
        },
        "outputId": "04ff80d3-15f9-45e0-8ca2-0d2637e831da"
      },
      "outputs": [
        {
          "output_type": "stream",
          "name": "stdout",
          "text": [
            "Dataset size: 1797 \n",
            "\n",
            "<class 'pandas.core.frame.DataFrame'>\n",
            "RangeIndex: 1797 entries, 0 to 1796\n",
            "Data columns (total 2 columns):\n",
            " #   Column    Non-Null Count  Dtype  \n",
            "---  ------    --------------  -----  \n",
            " 0   document  1797 non-null   object \n",
            " 1   label     1797 non-null   float64\n",
            "dtypes: float64(1), object(1)\n",
            "memory usage: 28.2+ KB\n"
          ]
        }
      ],
      "source": [
        "reddit_df_train = pd.read_csv('/content/annotated_question_intimacy_data/final_train.txt', \n",
        "                              sep='\\t', header=None, names=['document', 'label'])\n",
        "\n",
        "print(\"Dataset size:\", len(reddit_df_train), '\\n')\n",
        "reddit_df_train.info()"
      ]
    },
    {
      "cell_type": "code",
      "execution_count": null,
      "metadata": {
        "id": "EjEPL_CmkuNt",
        "colab": {
          "base_uri": "https://localhost:8080/",
          "height": 206
        },
        "outputId": "8b9e16c7-0846-45f9-a5db-71721c553f39"
      },
      "outputs": [
        {
          "output_type": "execute_result",
          "data": {
            "text/plain": [
              "                                            document     label\n",
              "0  What are the most mediocre animals in the anim... -0.338354\n",
              "1  What's the difference between an allergic reac...  0.035508\n",
              "2  What is your favorite subreddit that not every...  0.047134\n",
              "3  What's the most disgusting meal you've ever ea...  0.247764\n",
              "4           Whats one question you hate being asked?  0.516920"
            ],
            "text/html": [
              "\n",
              "  <div id=\"df-ad00d835-827f-4e90-b9af-421d00747129\">\n",
              "    <div class=\"colab-df-container\">\n",
              "      <div>\n",
              "<style scoped>\n",
              "    .dataframe tbody tr th:only-of-type {\n",
              "        vertical-align: middle;\n",
              "    }\n",
              "\n",
              "    .dataframe tbody tr th {\n",
              "        vertical-align: top;\n",
              "    }\n",
              "\n",
              "    .dataframe thead th {\n",
              "        text-align: right;\n",
              "    }\n",
              "</style>\n",
              "<table border=\"1\" class=\"dataframe\">\n",
              "  <thead>\n",
              "    <tr style=\"text-align: right;\">\n",
              "      <th></th>\n",
              "      <th>document</th>\n",
              "      <th>label</th>\n",
              "    </tr>\n",
              "  </thead>\n",
              "  <tbody>\n",
              "    <tr>\n",
              "      <th>0</th>\n",
              "      <td>What are the most mediocre animals in the anim...</td>\n",
              "      <td>-0.338354</td>\n",
              "    </tr>\n",
              "    <tr>\n",
              "      <th>1</th>\n",
              "      <td>What's the difference between an allergic reac...</td>\n",
              "      <td>0.035508</td>\n",
              "    </tr>\n",
              "    <tr>\n",
              "      <th>2</th>\n",
              "      <td>What is your favorite subreddit that not every...</td>\n",
              "      <td>0.047134</td>\n",
              "    </tr>\n",
              "    <tr>\n",
              "      <th>3</th>\n",
              "      <td>What's the most disgusting meal you've ever ea...</td>\n",
              "      <td>0.247764</td>\n",
              "    </tr>\n",
              "    <tr>\n",
              "      <th>4</th>\n",
              "      <td>Whats one question you hate being asked?</td>\n",
              "      <td>0.516920</td>\n",
              "    </tr>\n",
              "  </tbody>\n",
              "</table>\n",
              "</div>\n",
              "      <button class=\"colab-df-convert\" onclick=\"convertToInteractive('df-ad00d835-827f-4e90-b9af-421d00747129')\"\n",
              "              title=\"Convert this dataframe to an interactive table.\"\n",
              "              style=\"display:none;\">\n",
              "        \n",
              "  <svg xmlns=\"http://www.w3.org/2000/svg\" height=\"24px\"viewBox=\"0 0 24 24\"\n",
              "       width=\"24px\">\n",
              "    <path d=\"M0 0h24v24H0V0z\" fill=\"none\"/>\n",
              "    <path d=\"M18.56 5.44l.94 2.06.94-2.06 2.06-.94-2.06-.94-.94-2.06-.94 2.06-2.06.94zm-11 1L8.5 8.5l.94-2.06 2.06-.94-2.06-.94L8.5 2.5l-.94 2.06-2.06.94zm10 10l.94 2.06.94-2.06 2.06-.94-2.06-.94-.94-2.06-.94 2.06-2.06.94z\"/><path d=\"M17.41 7.96l-1.37-1.37c-.4-.4-.92-.59-1.43-.59-.52 0-1.04.2-1.43.59L10.3 9.45l-7.72 7.72c-.78.78-.78 2.05 0 2.83L4 21.41c.39.39.9.59 1.41.59.51 0 1.02-.2 1.41-.59l7.78-7.78 2.81-2.81c.8-.78.8-2.07 0-2.86zM5.41 20L4 18.59l7.72-7.72 1.47 1.35L5.41 20z\"/>\n",
              "  </svg>\n",
              "      </button>\n",
              "      \n",
              "  <style>\n",
              "    .colab-df-container {\n",
              "      display:flex;\n",
              "      flex-wrap:wrap;\n",
              "      gap: 12px;\n",
              "    }\n",
              "\n",
              "    .colab-df-convert {\n",
              "      background-color: #E8F0FE;\n",
              "      border: none;\n",
              "      border-radius: 50%;\n",
              "      cursor: pointer;\n",
              "      display: none;\n",
              "      fill: #1967D2;\n",
              "      height: 32px;\n",
              "      padding: 0 0 0 0;\n",
              "      width: 32px;\n",
              "    }\n",
              "\n",
              "    .colab-df-convert:hover {\n",
              "      background-color: #E2EBFA;\n",
              "      box-shadow: 0px 1px 2px rgba(60, 64, 67, 0.3), 0px 1px 3px 1px rgba(60, 64, 67, 0.15);\n",
              "      fill: #174EA6;\n",
              "    }\n",
              "\n",
              "    [theme=dark] .colab-df-convert {\n",
              "      background-color: #3B4455;\n",
              "      fill: #D2E3FC;\n",
              "    }\n",
              "\n",
              "    [theme=dark] .colab-df-convert:hover {\n",
              "      background-color: #434B5C;\n",
              "      box-shadow: 0px 1px 3px 1px rgba(0, 0, 0, 0.15);\n",
              "      filter: drop-shadow(0px 1px 2px rgba(0, 0, 0, 0.3));\n",
              "      fill: #FFFFFF;\n",
              "    }\n",
              "  </style>\n",
              "\n",
              "      <script>\n",
              "        const buttonEl =\n",
              "          document.querySelector('#df-ad00d835-827f-4e90-b9af-421d00747129 button.colab-df-convert');\n",
              "        buttonEl.style.display =\n",
              "          google.colab.kernel.accessAllowed ? 'block' : 'none';\n",
              "\n",
              "        async function convertToInteractive(key) {\n",
              "          const element = document.querySelector('#df-ad00d835-827f-4e90-b9af-421d00747129');\n",
              "          const dataTable =\n",
              "            await google.colab.kernel.invokeFunction('convertToInteractive',\n",
              "                                                     [key], {});\n",
              "          if (!dataTable) return;\n",
              "\n",
              "          const docLinkHtml = 'Like what you see? Visit the ' +\n",
              "            '<a target=\"_blank\" href=https://colab.research.google.com/notebooks/data_table.ipynb>data table notebook</a>'\n",
              "            + ' to learn more about interactive tables.';\n",
              "          element.innerHTML = '';\n",
              "          dataTable['output_type'] = 'display_data';\n",
              "          await google.colab.output.renderOutput(dataTable, element);\n",
              "          const docLink = document.createElement('div');\n",
              "          docLink.innerHTML = docLinkHtml;\n",
              "          element.appendChild(docLink);\n",
              "        }\n",
              "      </script>\n",
              "    </div>\n",
              "  </div>\n",
              "  "
            ]
          },
          "metadata": {},
          "execution_count": 9
        }
      ],
      "source": [
        "reddit_df_train.head()"
      ]
    },
    {
      "cell_type": "markdown",
      "metadata": {
        "id": "gkGy0Ypl8I-y"
      },
      "source": [
        "#### Performing Linear Mapping on the Reddit Dataset\n",
        "\n",
        "Since the ```intimacy_scores``` in the Reddit dataset is on a range from -1 to 1, we will linearly map them from 1 to 5. The linear mapping with maintain a constant ratio between the points. \n",
        "\n",
        "We will perform the following:\n",
        "- A scaling operation to adjust the ranges to the same size, and\n",
        "- An offset operation to adjust range alignment. \n",
        "\n",
        "Source: http://learnwebgl.brown37.net/08_projections/projections_mapping.html "
      ]
    },
    {
      "cell_type": "code",
      "execution_count": null,
      "metadata": {
        "id": "gsOU_Stk9bSn",
        "colab": {
          "base_uri": "https://localhost:8080/",
          "height": 206
        },
        "outputId": "032044a6-e4ee-4b7a-87ea-13f5740d274c"
      },
      "outputs": [
        {
          "output_type": "execute_result",
          "data": {
            "text/plain": [
              "                                            document  label\n",
              "0  What are the most mediocre animals in the anim...    2.3\n",
              "1  What's the difference between an allergic reac...    3.1\n",
              "2  What is your favorite subreddit that not every...    3.1\n",
              "3  What's the most disgusting meal you've ever ea...    3.5\n",
              "4           Whats one question you hate being asked?    4.0"
            ],
            "text/html": [
              "\n",
              "  <div id=\"df-bb5f67d0-736b-4319-b6b3-150c9341f82b\">\n",
              "    <div class=\"colab-df-container\">\n",
              "      <div>\n",
              "<style scoped>\n",
              "    .dataframe tbody tr th:only-of-type {\n",
              "        vertical-align: middle;\n",
              "    }\n",
              "\n",
              "    .dataframe tbody tr th {\n",
              "        vertical-align: top;\n",
              "    }\n",
              "\n",
              "    .dataframe thead th {\n",
              "        text-align: right;\n",
              "    }\n",
              "</style>\n",
              "<table border=\"1\" class=\"dataframe\">\n",
              "  <thead>\n",
              "    <tr style=\"text-align: right;\">\n",
              "      <th></th>\n",
              "      <th>document</th>\n",
              "      <th>label</th>\n",
              "    </tr>\n",
              "  </thead>\n",
              "  <tbody>\n",
              "    <tr>\n",
              "      <th>0</th>\n",
              "      <td>What are the most mediocre animals in the anim...</td>\n",
              "      <td>2.3</td>\n",
              "    </tr>\n",
              "    <tr>\n",
              "      <th>1</th>\n",
              "      <td>What's the difference between an allergic reac...</td>\n",
              "      <td>3.1</td>\n",
              "    </tr>\n",
              "    <tr>\n",
              "      <th>2</th>\n",
              "      <td>What is your favorite subreddit that not every...</td>\n",
              "      <td>3.1</td>\n",
              "    </tr>\n",
              "    <tr>\n",
              "      <th>3</th>\n",
              "      <td>What's the most disgusting meal you've ever ea...</td>\n",
              "      <td>3.5</td>\n",
              "    </tr>\n",
              "    <tr>\n",
              "      <th>4</th>\n",
              "      <td>Whats one question you hate being asked?</td>\n",
              "      <td>4.0</td>\n",
              "    </tr>\n",
              "  </tbody>\n",
              "</table>\n",
              "</div>\n",
              "      <button class=\"colab-df-convert\" onclick=\"convertToInteractive('df-bb5f67d0-736b-4319-b6b3-150c9341f82b')\"\n",
              "              title=\"Convert this dataframe to an interactive table.\"\n",
              "              style=\"display:none;\">\n",
              "        \n",
              "  <svg xmlns=\"http://www.w3.org/2000/svg\" height=\"24px\"viewBox=\"0 0 24 24\"\n",
              "       width=\"24px\">\n",
              "    <path d=\"M0 0h24v24H0V0z\" fill=\"none\"/>\n",
              "    <path d=\"M18.56 5.44l.94 2.06.94-2.06 2.06-.94-2.06-.94-.94-2.06-.94 2.06-2.06.94zm-11 1L8.5 8.5l.94-2.06 2.06-.94-2.06-.94L8.5 2.5l-.94 2.06-2.06.94zm10 10l.94 2.06.94-2.06 2.06-.94-2.06-.94-.94-2.06-.94 2.06-2.06.94z\"/><path d=\"M17.41 7.96l-1.37-1.37c-.4-.4-.92-.59-1.43-.59-.52 0-1.04.2-1.43.59L10.3 9.45l-7.72 7.72c-.78.78-.78 2.05 0 2.83L4 21.41c.39.39.9.59 1.41.59.51 0 1.02-.2 1.41-.59l7.78-7.78 2.81-2.81c.8-.78.8-2.07 0-2.86zM5.41 20L4 18.59l7.72-7.72 1.47 1.35L5.41 20z\"/>\n",
              "  </svg>\n",
              "      </button>\n",
              "      \n",
              "  <style>\n",
              "    .colab-df-container {\n",
              "      display:flex;\n",
              "      flex-wrap:wrap;\n",
              "      gap: 12px;\n",
              "    }\n",
              "\n",
              "    .colab-df-convert {\n",
              "      background-color: #E8F0FE;\n",
              "      border: none;\n",
              "      border-radius: 50%;\n",
              "      cursor: pointer;\n",
              "      display: none;\n",
              "      fill: #1967D2;\n",
              "      height: 32px;\n",
              "      padding: 0 0 0 0;\n",
              "      width: 32px;\n",
              "    }\n",
              "\n",
              "    .colab-df-convert:hover {\n",
              "      background-color: #E2EBFA;\n",
              "      box-shadow: 0px 1px 2px rgba(60, 64, 67, 0.3), 0px 1px 3px 1px rgba(60, 64, 67, 0.15);\n",
              "      fill: #174EA6;\n",
              "    }\n",
              "\n",
              "    [theme=dark] .colab-df-convert {\n",
              "      background-color: #3B4455;\n",
              "      fill: #D2E3FC;\n",
              "    }\n",
              "\n",
              "    [theme=dark] .colab-df-convert:hover {\n",
              "      background-color: #434B5C;\n",
              "      box-shadow: 0px 1px 3px 1px rgba(0, 0, 0, 0.15);\n",
              "      filter: drop-shadow(0px 1px 2px rgba(0, 0, 0, 0.3));\n",
              "      fill: #FFFFFF;\n",
              "    }\n",
              "  </style>\n",
              "\n",
              "      <script>\n",
              "        const buttonEl =\n",
              "          document.querySelector('#df-bb5f67d0-736b-4319-b6b3-150c9341f82b button.colab-df-convert');\n",
              "        buttonEl.style.display =\n",
              "          google.colab.kernel.accessAllowed ? 'block' : 'none';\n",
              "\n",
              "        async function convertToInteractive(key) {\n",
              "          const element = document.querySelector('#df-bb5f67d0-736b-4319-b6b3-150c9341f82b');\n",
              "          const dataTable =\n",
              "            await google.colab.kernel.invokeFunction('convertToInteractive',\n",
              "                                                     [key], {});\n",
              "          if (!dataTable) return;\n",
              "\n",
              "          const docLinkHtml = 'Like what you see? Visit the ' +\n",
              "            '<a target=\"_blank\" href=https://colab.research.google.com/notebooks/data_table.ipynb>data table notebook</a>'\n",
              "            + ' to learn more about interactive tables.';\n",
              "          element.innerHTML = '';\n",
              "          dataTable['output_type'] = 'display_data';\n",
              "          await google.colab.output.renderOutput(dataTable, element);\n",
              "          const docLink = document.createElement('div');\n",
              "          docLink.innerHTML = docLinkHtml;\n",
              "          element.appendChild(docLink);\n",
              "        }\n",
              "      </script>\n",
              "    </div>\n",
              "  </div>\n",
              "  "
            ]
          },
          "metadata": {},
          "execution_count": 10
        }
      ],
      "source": [
        "A, B, C, D = -1, 1, 1, 5\n",
        "scale = (D-C)/(B-A)\n",
        "offset = -A*(D-C)/(B-A) + C\n",
        "\n",
        "for index, row in reddit_df_train.iterrows():\n",
        "  iScore = row['label']\n",
        "\n",
        "  # If the cell is re-run without clearing local variables, we'll\n",
        "  # double convert the values between the 1-5 range resulting in values between\n",
        "  # 5-10. This condition makes sure original scores from Reddit are not already\n",
        "  #  greater than 1. \n",
        "  if iScore > 1:\n",
        "    break\n",
        "\n",
        "  q = iScore * scale + offset\n",
        "  reddit_df_train.at[index, 'label'] = round(q, 1)\n",
        "  \n",
        "reddit_df_train.head()"
      ]
    },
    {
      "cell_type": "markdown",
      "metadata": {
        "id": "C18zWc2ytm1y"
      },
      "source": [
        "## Define the Tokenizer"
      ]
    },
    {
      "cell_type": "code",
      "execution_count": null,
      "metadata": {
        "colab": {
          "base_uri": "https://localhost:8080/"
        },
        "id": "cJgSdTICDnVY",
        "outputId": "b2e0785d-7655-47c4-9f8d-36b1ec520d3f"
      },
      "outputs": [
        {
          "output_type": "stream",
          "name": "stdout",
          "text": [
            "Looking in indexes: https://pypi.org/simple, https://us-python.pkg.dev/colab-wheels/public/simple/\n",
            "Collecting sentencepiece\n",
            "  Downloading sentencepiece-0.1.99-cp310-cp310-manylinux_2_17_x86_64.manylinux2014_x86_64.whl (1.3 MB)\n",
            "\u001b[2K     \u001b[90m━━━━━━━━━━━━━━━━━━━━━━━━━━━━━━━━━━━━━━━━\u001b[0m \u001b[32m1.3/1.3 MB\u001b[0m \u001b[31m55.3 MB/s\u001b[0m eta \u001b[36m0:00:00\u001b[0m\n",
            "\u001b[?25hInstalling collected packages: sentencepiece\n",
            "Successfully installed sentencepiece-0.1.99\n",
            "Looking in indexes: https://pypi.org/simple, https://us-python.pkg.dev/colab-wheels/public/simple/\n",
            "Requirement already satisfied: transformers in /usr/local/lib/python3.10/dist-packages (4.29.1)\n",
            "Requirement already satisfied: filelock in /usr/local/lib/python3.10/dist-packages (from transformers) (3.12.0)\n",
            "Requirement already satisfied: huggingface-hub<1.0,>=0.14.1 in /usr/local/lib/python3.10/dist-packages (from transformers) (0.14.1)\n",
            "Requirement already satisfied: numpy>=1.17 in /usr/local/lib/python3.10/dist-packages (from transformers) (1.22.4)\n",
            "Requirement already satisfied: packaging>=20.0 in /usr/local/lib/python3.10/dist-packages (from transformers) (23.1)\n",
            "Requirement already satisfied: pyyaml>=5.1 in /usr/local/lib/python3.10/dist-packages (from transformers) (6.0)\n",
            "Requirement already satisfied: regex!=2019.12.17 in /usr/local/lib/python3.10/dist-packages (from transformers) (2022.10.31)\n",
            "Requirement already satisfied: requests in /usr/local/lib/python3.10/dist-packages (from transformers) (2.27.1)\n",
            "Requirement already satisfied: tokenizers!=0.11.3,<0.14,>=0.11.1 in /usr/local/lib/python3.10/dist-packages (from transformers) (0.13.3)\n",
            "Requirement already satisfied: tqdm>=4.27 in /usr/local/lib/python3.10/dist-packages (from transformers) (4.65.0)\n",
            "Requirement already satisfied: fsspec in /usr/local/lib/python3.10/dist-packages (from huggingface-hub<1.0,>=0.14.1->transformers) (2023.4.0)\n",
            "Requirement already satisfied: typing-extensions>=3.7.4.3 in /usr/local/lib/python3.10/dist-packages (from huggingface-hub<1.0,>=0.14.1->transformers) (4.5.0)\n",
            "Requirement already satisfied: urllib3<1.27,>=1.21.1 in /usr/local/lib/python3.10/dist-packages (from requests->transformers) (1.26.15)\n",
            "Requirement already satisfied: certifi>=2017.4.17 in /usr/local/lib/python3.10/dist-packages (from requests->transformers) (2022.12.7)\n",
            "Requirement already satisfied: charset-normalizer~=2.0.0 in /usr/local/lib/python3.10/dist-packages (from requests->transformers) (2.0.12)\n",
            "Requirement already satisfied: idna<4,>=2.5 in /usr/local/lib/python3.10/dist-packages (from requests->transformers) (3.4)\n",
            "Looking in indexes: https://pypi.org/simple, https://us-python.pkg.dev/colab-wheels/public/simple/\n",
            "Collecting seqeval\n",
            "  Downloading seqeval-1.2.2.tar.gz (43 kB)\n",
            "\u001b[2K     \u001b[90m━━━━━━━━━━━━━━━━━━━━━━━━━━━━━━━━━━━━━━━━\u001b[0m \u001b[32m43.6/43.6 kB\u001b[0m \u001b[31m4.9 MB/s\u001b[0m eta \u001b[36m0:00:00\u001b[0m\n",
            "\u001b[?25h  Preparing metadata (setup.py) ... \u001b[?25l\u001b[?25hdone\n",
            "Requirement already satisfied: numpy>=1.14.0 in /usr/local/lib/python3.10/dist-packages (from seqeval) (1.22.4)\n",
            "Requirement already satisfied: scikit-learn>=0.21.3 in /usr/local/lib/python3.10/dist-packages (from seqeval) (1.2.2)\n",
            "Requirement already satisfied: scipy>=1.3.2 in /usr/local/lib/python3.10/dist-packages (from scikit-learn>=0.21.3->seqeval) (1.10.1)\n",
            "Requirement already satisfied: joblib>=1.1.1 in /usr/local/lib/python3.10/dist-packages (from scikit-learn>=0.21.3->seqeval) (1.2.0)\n",
            "Requirement already satisfied: threadpoolctl>=2.0.0 in /usr/local/lib/python3.10/dist-packages (from scikit-learn>=0.21.3->seqeval) (3.1.0)\n",
            "Building wheels for collected packages: seqeval\n",
            "  Building wheel for seqeval (setup.py) ... \u001b[?25l\u001b[?25hdone\n",
            "  Created wheel for seqeval: filename=seqeval-1.2.2-py3-none-any.whl size=16165 sha256=60e423bf9f9f53e2a29c741bf8bdbd8753d93ad607302f74ca18b666dffb619c\n",
            "  Stored in directory: /root/.cache/pip/wheels/1a/67/4a/ad4082dd7dfc30f2abfe4d80a2ed5926a506eb8a972b4767fa\n",
            "Successfully built seqeval\n",
            "Installing collected packages: seqeval\n",
            "Successfully installed seqeval-1.2.2\n",
            "Looking in indexes: https://pypi.org/simple, https://us-python.pkg.dev/colab-wheels/public/simple/\n",
            "Collecting bertviz\n",
            "  Downloading bertviz-1.4.0-py3-none-any.whl (157 kB)\n",
            "\u001b[2K     \u001b[90m━━━━━━━━━━━━━━━━━━━━━━━━━━━━━━━━━━━━━━\u001b[0m \u001b[32m157.6/157.6 kB\u001b[0m \u001b[31m14.0 MB/s\u001b[0m eta \u001b[36m0:00:00\u001b[0m\n",
            "\u001b[?25hRequirement already satisfied: transformers>=2.0 in /usr/local/lib/python3.10/dist-packages (from bertviz) (4.29.1)\n",
            "Requirement already satisfied: torch>=1.0 in /usr/local/lib/python3.10/dist-packages (from bertviz) (2.0.0+cu118)\n",
            "Requirement already satisfied: tqdm in /usr/local/lib/python3.10/dist-packages (from bertviz) (4.65.0)\n",
            "Collecting boto3 (from bertviz)\n",
            "  Downloading boto3-1.26.133-py3-none-any.whl (135 kB)\n",
            "\u001b[2K     \u001b[90m━━━━━━━━━━━━━━━━━━━━━━━━━━━━━━━━━━━━━━\u001b[0m \u001b[32m135.6/135.6 kB\u001b[0m \u001b[31m16.5 MB/s\u001b[0m eta \u001b[36m0:00:00\u001b[0m\n",
            "\u001b[?25hRequirement already satisfied: requests in /usr/local/lib/python3.10/dist-packages (from bertviz) (2.27.1)\n",
            "Requirement already satisfied: regex in /usr/local/lib/python3.10/dist-packages (from bertviz) (2022.10.31)\n",
            "Requirement already satisfied: sentencepiece in /usr/local/lib/python3.10/dist-packages (from bertviz) (0.1.99)\n",
            "Requirement already satisfied: filelock in /usr/local/lib/python3.10/dist-packages (from torch>=1.0->bertviz) (3.12.0)\n",
            "Requirement already satisfied: typing-extensions in /usr/local/lib/python3.10/dist-packages (from torch>=1.0->bertviz) (4.5.0)\n",
            "Requirement already satisfied: sympy in /usr/local/lib/python3.10/dist-packages (from torch>=1.0->bertviz) (1.11.1)\n",
            "Requirement already satisfied: networkx in /usr/local/lib/python3.10/dist-packages (from torch>=1.0->bertviz) (3.1)\n",
            "Requirement already satisfied: jinja2 in /usr/local/lib/python3.10/dist-packages (from torch>=1.0->bertviz) (3.1.2)\n",
            "Requirement already satisfied: triton==2.0.0 in /usr/local/lib/python3.10/dist-packages (from torch>=1.0->bertviz) (2.0.0)\n",
            "Requirement already satisfied: cmake in /usr/local/lib/python3.10/dist-packages (from triton==2.0.0->torch>=1.0->bertviz) (3.25.2)\n",
            "Requirement already satisfied: lit in /usr/local/lib/python3.10/dist-packages (from triton==2.0.0->torch>=1.0->bertviz) (16.0.3)\n",
            "Requirement already satisfied: huggingface-hub<1.0,>=0.14.1 in /usr/local/lib/python3.10/dist-packages (from transformers>=2.0->bertviz) (0.14.1)\n",
            "Requirement already satisfied: numpy>=1.17 in /usr/local/lib/python3.10/dist-packages (from transformers>=2.0->bertviz) (1.22.4)\n",
            "Requirement already satisfied: packaging>=20.0 in /usr/local/lib/python3.10/dist-packages (from transformers>=2.0->bertviz) (23.1)\n",
            "Requirement already satisfied: pyyaml>=5.1 in /usr/local/lib/python3.10/dist-packages (from transformers>=2.0->bertviz) (6.0)\n",
            "Requirement already satisfied: tokenizers!=0.11.3,<0.14,>=0.11.1 in /usr/local/lib/python3.10/dist-packages (from transformers>=2.0->bertviz) (0.13.3)\n",
            "Collecting botocore<1.30.0,>=1.29.133 (from boto3->bertviz)\n",
            "  Downloading botocore-1.29.133-py3-none-any.whl (10.7 MB)\n",
            "\u001b[2K     \u001b[90m━━━━━━━━━━━━━━━━━━━━━━━━━━━━━━━━━━━━━━━\u001b[0m \u001b[32m10.7/10.7 MB\u001b[0m \u001b[31m107.8 MB/s\u001b[0m eta \u001b[36m0:00:00\u001b[0m\n",
            "\u001b[?25hCollecting jmespath<2.0.0,>=0.7.1 (from boto3->bertviz)\n",
            "  Downloading jmespath-1.0.1-py3-none-any.whl (20 kB)\n",
            "Collecting s3transfer<0.7.0,>=0.6.0 (from boto3->bertviz)\n",
            "  Downloading s3transfer-0.6.1-py3-none-any.whl (79 kB)\n",
            "\u001b[2K     \u001b[90m━━━━━━━━━━━━━━━━━━━━━━━━━━━━━━━━━━━━━━━━\u001b[0m \u001b[32m79.8/79.8 kB\u001b[0m \u001b[31m10.4 MB/s\u001b[0m eta \u001b[36m0:00:00\u001b[0m\n",
            "\u001b[?25hRequirement already satisfied: urllib3<1.27,>=1.21.1 in /usr/local/lib/python3.10/dist-packages (from requests->bertviz) (1.26.15)\n",
            "Requirement already satisfied: certifi>=2017.4.17 in /usr/local/lib/python3.10/dist-packages (from requests->bertviz) (2022.12.7)\n",
            "Requirement already satisfied: charset-normalizer~=2.0.0 in /usr/local/lib/python3.10/dist-packages (from requests->bertviz) (2.0.12)\n",
            "Requirement already satisfied: idna<4,>=2.5 in /usr/local/lib/python3.10/dist-packages (from requests->bertviz) (3.4)\n",
            "Requirement already satisfied: python-dateutil<3.0.0,>=2.1 in /usr/local/lib/python3.10/dist-packages (from botocore<1.30.0,>=1.29.133->boto3->bertviz) (2.8.2)\n",
            "Requirement already satisfied: fsspec in /usr/local/lib/python3.10/dist-packages (from huggingface-hub<1.0,>=0.14.1->transformers>=2.0->bertviz) (2023.4.0)\n",
            "Requirement already satisfied: MarkupSafe>=2.0 in /usr/local/lib/python3.10/dist-packages (from jinja2->torch>=1.0->bertviz) (2.1.2)\n",
            "Requirement already satisfied: mpmath>=0.19 in /usr/local/lib/python3.10/dist-packages (from sympy->torch>=1.0->bertviz) (1.3.0)\n",
            "Requirement already satisfied: six>=1.5 in /usr/local/lib/python3.10/dist-packages (from python-dateutil<3.0.0,>=2.1->botocore<1.30.0,>=1.29.133->boto3->bertviz) (1.16.0)\n",
            "Installing collected packages: jmespath, botocore, s3transfer, boto3, bertviz\n",
            "Successfully installed bertviz-1.4.0 boto3-1.26.133 botocore-1.29.133 jmespath-1.0.1 s3transfer-0.6.1\n",
            "Looking in indexes: https://pypi.org/simple, https://us-python.pkg.dev/colab-wheels/public/simple/\n",
            "Collecting datasets\n",
            "  Downloading datasets-2.12.0-py3-none-any.whl (474 kB)\n",
            "\u001b[2K     \u001b[90m━━━━━━━━━━━━━━━━━━━━━━━━━━━━━━━━━━━━━━\u001b[0m \u001b[32m474.6/474.6 kB\u001b[0m \u001b[31m27.4 MB/s\u001b[0m eta \u001b[36m0:00:00\u001b[0m\n",
            "\u001b[?25hRequirement already satisfied: numpy>=1.17 in /usr/local/lib/python3.10/dist-packages (from datasets) (1.22.4)\n",
            "Requirement already satisfied: pyarrow>=8.0.0 in /usr/local/lib/python3.10/dist-packages (from datasets) (9.0.0)\n",
            "Collecting dill<0.3.7,>=0.3.0 (from datasets)\n",
            "  Downloading dill-0.3.6-py3-none-any.whl (110 kB)\n",
            "\u001b[2K     \u001b[90m━━━━━━━━━━━━━━━━━━━━━━━━━━━━━━━━━━━━━━\u001b[0m \u001b[32m110.5/110.5 kB\u001b[0m \u001b[31m15.9 MB/s\u001b[0m eta \u001b[36m0:00:00\u001b[0m\n",
            "\u001b[?25hRequirement already satisfied: pandas in /usr/local/lib/python3.10/dist-packages (from datasets) (1.5.3)\n",
            "Requirement already satisfied: requests>=2.19.0 in /usr/local/lib/python3.10/dist-packages (from datasets) (2.27.1)\n",
            "Requirement already satisfied: tqdm>=4.62.1 in /usr/local/lib/python3.10/dist-packages (from datasets) (4.65.0)\n",
            "Collecting xxhash (from datasets)\n",
            "  Downloading xxhash-3.2.0-cp310-cp310-manylinux_2_17_x86_64.manylinux2014_x86_64.whl (212 kB)\n",
            "\u001b[2K     \u001b[90m━━━━━━━━━━━━━━━━━━━━━━━━━━━━━━━━━━━━━━\u001b[0m \u001b[32m212.5/212.5 kB\u001b[0m \u001b[31m25.2 MB/s\u001b[0m eta \u001b[36m0:00:00\u001b[0m\n",
            "\u001b[?25hCollecting multiprocess (from datasets)\n",
            "  Downloading multiprocess-0.70.14-py310-none-any.whl (134 kB)\n",
            "\u001b[2K     \u001b[90m━━━━━━━━━━━━━━━━━━━━━━━━━━━━━━━━━━━━━━\u001b[0m \u001b[32m134.3/134.3 kB\u001b[0m \u001b[31m17.8 MB/s\u001b[0m eta \u001b[36m0:00:00\u001b[0m\n",
            "\u001b[?25hRequirement already satisfied: fsspec[http]>=2021.11.1 in /usr/local/lib/python3.10/dist-packages (from datasets) (2023.4.0)\n",
            "Collecting aiohttp (from datasets)\n",
            "  Downloading aiohttp-3.8.4-cp310-cp310-manylinux_2_17_x86_64.manylinux2014_x86_64.whl (1.0 MB)\n",
            "\u001b[2K     \u001b[90m━━━━━━━━━━━━━━━━━━━━━━━━━━━━━━━━━━━━━━━━\u001b[0m \u001b[32m1.0/1.0 MB\u001b[0m \u001b[31m60.9 MB/s\u001b[0m eta \u001b[36m0:00:00\u001b[0m\n",
            "\u001b[?25hRequirement already satisfied: huggingface-hub<1.0.0,>=0.11.0 in /usr/local/lib/python3.10/dist-packages (from datasets) (0.14.1)\n",
            "Requirement already satisfied: packaging in /usr/local/lib/python3.10/dist-packages (from datasets) (23.1)\n",
            "Collecting responses<0.19 (from datasets)\n",
            "  Downloading responses-0.18.0-py3-none-any.whl (38 kB)\n",
            "Requirement already satisfied: pyyaml>=5.1 in /usr/local/lib/python3.10/dist-packages (from datasets) (6.0)\n",
            "Requirement already satisfied: attrs>=17.3.0 in /usr/local/lib/python3.10/dist-packages (from aiohttp->datasets) (23.1.0)\n",
            "Requirement already satisfied: charset-normalizer<4.0,>=2.0 in /usr/local/lib/python3.10/dist-packages (from aiohttp->datasets) (2.0.12)\n",
            "Collecting multidict<7.0,>=4.5 (from aiohttp->datasets)\n",
            "  Downloading multidict-6.0.4-cp310-cp310-manylinux_2_17_x86_64.manylinux2014_x86_64.whl (114 kB)\n",
            "\u001b[2K     \u001b[90m━━━━━━━━━━━━━━━━━━━━━━━━━━━━━━━━━━━━━━\u001b[0m \u001b[32m114.5/114.5 kB\u001b[0m \u001b[31m17.2 MB/s\u001b[0m eta \u001b[36m0:00:00\u001b[0m\n",
            "\u001b[?25hCollecting async-timeout<5.0,>=4.0.0a3 (from aiohttp->datasets)\n",
            "  Downloading async_timeout-4.0.2-py3-none-any.whl (5.8 kB)\n",
            "Collecting yarl<2.0,>=1.0 (from aiohttp->datasets)\n",
            "  Downloading yarl-1.9.2-cp310-cp310-manylinux_2_17_x86_64.manylinux2014_x86_64.whl (268 kB)\n",
            "\u001b[2K     \u001b[90m━━━━━━━━━━━━━━━━━━━━━━━━━━━━━━━━━━━━━━\u001b[0m \u001b[32m268.8/268.8 kB\u001b[0m \u001b[31m33.9 MB/s\u001b[0m eta \u001b[36m0:00:00\u001b[0m\n",
            "\u001b[?25hCollecting frozenlist>=1.1.1 (from aiohttp->datasets)\n",
            "  Downloading frozenlist-1.3.3-cp310-cp310-manylinux_2_5_x86_64.manylinux1_x86_64.manylinux_2_17_x86_64.manylinux2014_x86_64.whl (149 kB)\n",
            "\u001b[2K     \u001b[90m━━━━━━━━━━━━━━━━━━━━━━━━━━━━━━━━━━━━━━\u001b[0m \u001b[32m149.6/149.6 kB\u001b[0m \u001b[31m22.0 MB/s\u001b[0m eta \u001b[36m0:00:00\u001b[0m\n",
            "\u001b[?25hCollecting aiosignal>=1.1.2 (from aiohttp->datasets)\n",
            "  Downloading aiosignal-1.3.1-py3-none-any.whl (7.6 kB)\n",
            "Requirement already satisfied: filelock in /usr/local/lib/python3.10/dist-packages (from huggingface-hub<1.0.0,>=0.11.0->datasets) (3.12.0)\n",
            "Requirement already satisfied: typing-extensions>=3.7.4.3 in /usr/local/lib/python3.10/dist-packages (from huggingface-hub<1.0.0,>=0.11.0->datasets) (4.5.0)\n",
            "Requirement already satisfied: urllib3<1.27,>=1.21.1 in /usr/local/lib/python3.10/dist-packages (from requests>=2.19.0->datasets) (1.26.15)\n",
            "Requirement already satisfied: certifi>=2017.4.17 in /usr/local/lib/python3.10/dist-packages (from requests>=2.19.0->datasets) (2022.12.7)\n",
            "Requirement already satisfied: idna<4,>=2.5 in /usr/local/lib/python3.10/dist-packages (from requests>=2.19.0->datasets) (3.4)\n",
            "Requirement already satisfied: python-dateutil>=2.8.1 in /usr/local/lib/python3.10/dist-packages (from pandas->datasets) (2.8.2)\n",
            "Requirement already satisfied: pytz>=2020.1 in /usr/local/lib/python3.10/dist-packages (from pandas->datasets) (2022.7.1)\n",
            "Requirement already satisfied: six>=1.5 in /usr/local/lib/python3.10/dist-packages (from python-dateutil>=2.8.1->pandas->datasets) (1.16.0)\n",
            "Installing collected packages: xxhash, multidict, frozenlist, dill, async-timeout, yarl, responses, multiprocess, aiosignal, aiohttp, datasets\n",
            "Successfully installed aiohttp-3.8.4 aiosignal-1.3.1 async-timeout-4.0.2 datasets-2.12.0 dill-0.3.6 frozenlist-1.3.3 multidict-6.0.4 multiprocess-0.70.14 responses-0.18.0 xxhash-3.2.0 yarl-1.9.2\n"
          ]
        }
      ],
      "source": [
        "! pip install sentencepiece\n",
        "! pip install transformers\n",
        "! pip install seqeval\n",
        "! pip install bertviz\n",
        "! pip install datasets\n"
      ]
    },
    {
      "cell_type": "code",
      "execution_count": null,
      "metadata": {
        "id": "pA_etpKruiSs"
      },
      "outputs": [],
      "source": [
        "import datasets\n",
        "import transformers\n",
        "\n",
        "# set up verbosity of libraries\n",
        "datasets.utils.logging.set_verbosity_error()\n",
        "transformers.utils.logging.set_verbosity_error()"
      ]
    },
    {
      "cell_type": "code",
      "execution_count": null,
      "metadata": {
        "id": "AIOjqyZNoHzb"
      },
      "outputs": [],
      "source": [
        "import torch\n",
        "\n",
        "# Set up device. Recommend to use GPU to accelerate training\n",
        "DEVICE = 'cuda:0' if torch.cuda.is_available() else 'cpu'"
      ]
    },
    {
      "cell_type": "code",
      "execution_count": null,
      "metadata": {
        "id": "1Vdt36Ofu1Oq"
      },
      "outputs": [],
      "source": [
        "PRETRAINED_MODEL_NAME = f\"bert-base-uncased\"\n",
        "\n",
        "IGNORE_INDEX = -100"
      ]
    },
    {
      "cell_type": "code",
      "execution_count": null,
      "metadata": {
        "id": "KYDyN1-Lurnf",
        "colab": {
          "base_uri": "https://localhost:8080/",
          "height": 181,
          "referenced_widgets": [
            "3b7aef39b3da4be3b09a0cd23eacc7c2",
            "5f34d12cb43b4b57aad4a7e323d04493",
            "c93a1e845cdd4ab789b2680343455fe7",
            "c414fe40bff94d0aa7fd7948f8b7d709",
            "8945c9efecd24e818c1b52a641ac94e1",
            "4411dcf9924e4667975a998641a04f74",
            "498d7f5b4650495ea089d4d46ef8cdb9",
            "406d122beece4e24b26b59278c35fa4d",
            "2ccb39ec087b4844b1fc55fd9f0df7bc",
            "de116bf08b5d498b8770c7faadcc256f",
            "22044ad7224d45238a662ba119153e75",
            "bbb3c0fab5da47ed9e0087af9e756d61",
            "357724f3aca04bff8db916ddb49ed058",
            "3434d20840bf47ed88c6a488791659fc",
            "42ceb582b4dc409e99f3ffcae4f5ead6",
            "07e774b1b772491982a17c4141ebc1fe",
            "aec4ea26c4464b36bb97113e1d741056",
            "5c7f7610733a43ac91688e9b4151c8cd",
            "d0f10df5a3d34c78b669b18b841c8120",
            "88c51a3ef5884934bfdd2b0c6ee0d869",
            "dc9bfbc5f644456db0e006883b5aafda",
            "5dfc13d9223c452f9951a046f004f2bf",
            "b41c966c6ce1451f827567b5bf861dfc",
            "1d362979b4364d1a8635d6ceb2a87f48",
            "309555fe8f2a442a8a608261d1a8ead8",
            "001677f689e8430abfde1bdacb102b67",
            "95e0db34c12f4c48bc7b2fc9eaa73bb1",
            "688c2e0326844f57a35c68e44d385afd",
            "fea1125b49d14117a6894b90b7f09abf",
            "5b50ad46dd3f4913aaf8ac51ce470bd6",
            "68c56b055a6a469b841a8cc590aa1f88",
            "2154a50b75c94a18bad7eb8fc8359373",
            "2757950e0fa84be6bd05adb94521713a",
            "932c2157095e444584347dbc544bc0d2",
            "62948000fb314fab9b2ed5ab54acca39",
            "27ee50f26022459d8ce2cde494450fcf",
            "d59ce70b87c64d1682ae02aca279fece",
            "c8685117b1144984b6252cca81a455eb",
            "6419ca8a868a4588b09876442310e583",
            "ab217d1f84704d94989bd4dea7119e71",
            "c5d1165ccced431dbf69caae72efe63a",
            "8e53bcf909404af0b5de045f6696f0ba",
            "9ae8c8caf634461e95e6edc3e935b654",
            "bfa394dd3da543c388bf8d142ae4013a"
          ]
        },
        "outputId": "8cfc731e-4330-429f-d658-f38785758c3e"
      },
      "outputs": [
        {
          "output_type": "display_data",
          "data": {
            "text/plain": [
              "Downloading (…)okenizer_config.json:   0%|          | 0.00/28.0 [00:00<?, ?B/s]"
            ],
            "application/vnd.jupyter.widget-view+json": {
              "version_major": 2,
              "version_minor": 0,
              "model_id": "3b7aef39b3da4be3b09a0cd23eacc7c2"
            }
          },
          "metadata": {}
        },
        {
          "output_type": "display_data",
          "data": {
            "text/plain": [
              "Downloading (…)lve/main/config.json:   0%|          | 0.00/570 [00:00<?, ?B/s]"
            ],
            "application/vnd.jupyter.widget-view+json": {
              "version_major": 2,
              "version_minor": 0,
              "model_id": "bbb3c0fab5da47ed9e0087af9e756d61"
            }
          },
          "metadata": {}
        },
        {
          "output_type": "display_data",
          "data": {
            "text/plain": [
              "Downloading (…)solve/main/vocab.txt:   0%|          | 0.00/232k [00:00<?, ?B/s]"
            ],
            "application/vnd.jupyter.widget-view+json": {
              "version_major": 2,
              "version_minor": 0,
              "model_id": "b41c966c6ce1451f827567b5bf861dfc"
            }
          },
          "metadata": {}
        },
        {
          "output_type": "display_data",
          "data": {
            "text/plain": [
              "Downloading (…)/main/tokenizer.json:   0%|          | 0.00/466k [00:00<?, ?B/s]"
            ],
            "application/vnd.jupyter.widget-view+json": {
              "version_major": 2,
              "version_minor": 0,
              "model_id": "932c2157095e444584347dbc544bc0d2"
            }
          },
          "metadata": {}
        },
        {
          "output_type": "execute_result",
          "data": {
            "text/plain": [
              "BertTokenizerFast(name_or_path='bert-base-uncased', vocab_size=30522, model_max_length=512, is_fast=True, padding_side='right', truncation_side='right', special_tokens={'unk_token': '[UNK]', 'sep_token': '[SEP]', 'pad_token': '[PAD]', 'cls_token': '[CLS]', 'mask_token': '[MASK]'}, clean_up_tokenization_spaces=True)"
            ]
          },
          "metadata": {},
          "execution_count": 15
        }
      ],
      "source": [
        "from transformers import AutoTokenizer\n",
        "\n",
        "tokenizer = AutoTokenizer.from_pretrained(PRETRAINED_MODEL_NAME)\n",
        "tokenizer"
      ]
    },
    {
      "cell_type": "markdown",
      "metadata": {
        "id": "psgQJz7bdFGB"
      },
      "source": [
        "## Data split\n",
        "\n",
        "The data will be split into training and testing datasets.\n",
        "The training dataset will be 80% of the data from the Reddit and Twitter datasets. This dataset will be used to fine tune the model. "
      ]
    },
    {
      "cell_type": "code",
      "execution_count": null,
      "metadata": {
        "id": "mNynH9HWQxIH"
      },
      "outputs": [],
      "source": [
        "# Declare constants for commonly used strings\n",
        "TWEET = 'tweet'\n",
        "REDDIT = 'reddit'\n",
        "TRAIN = 'train'\n",
        "TEST = 'test'\n",
        "COMBINED = 'combined'"
      ]
    },
    {
      "cell_type": "code",
      "execution_count": null,
      "metadata": {
        "id": "eo1bIjE8grhU"
      },
      "outputs": [],
      "source": [
        "def split_dataset(dataset, train_size, test_size):\n",
        "  X = dataset['document']\n",
        "  y = dataset['label']\n",
        "\n",
        "  # Bin size = 1.0\n",
        "  bins = np.linspace(start=1.0, stop=5.0, num=5)\n",
        "\n",
        "  binned_y = np.digitize(y, bins)\n",
        "  X_train, X_rem, y_train, y_rem = train_test_split(X, y, \n",
        "                                                    stratify=binned_y, \n",
        "                                                    train_size=train_size)\n",
        "\n",
        "  binned_y_rem = np.digitize(y_rem, bins)\n",
        "  X_test, X_valid, y_test, y_valid = train_test_split(X_rem, y_rem, \n",
        "                                                      stratify=binned_y_rem, \n",
        "                                                      test_size=test_size)\n",
        "  \n",
        "  print (f'X_train: {X_train.shape}, X_rem: {X_rem.shape}, y_train: {y_train.shape}, y_rem: {y_rem.shape}')\n",
        "  print (f'X_test: {X_test.shape}, X_valid: {X_valid.shape}, y_test: {y_test.shape}, y_valid: {y_valid.shape}')\n",
        "  \n",
        "  return {'train': {'X': X_train, 'y': y_train},\n",
        "          'test': {'X': X_test, 'y': y_test},\n",
        "          'valid': {'X': X_valid, 'y': y_valid}}"
      ]
    },
    {
      "cell_type": "code",
      "execution_count": null,
      "metadata": {
        "id": "NVRW-Cy1kI4q"
      },
      "outputs": [],
      "source": [
        "\"\"\"\n",
        "Combines collections from the same split of two datasets into one collection to use as a split of the combined dataset.\n",
        "\"\"\"\n",
        "def combine_sets(a, b):\n",
        "  # Simple concatenation. Is there another way we want to try combining them\n",
        "  #  (e.g. zipping/mixing them together?)\n",
        "  return [a_item for a_item in a] + [b_item for b_item in b]\n",
        "\n",
        "def combine_splits(a_split, b_split):\n",
        "  return {split_name: {variable: combine_sets(a_split[split_name][variable], b_split[split_name][variable]) \n",
        "                       for variable in a_split[split_name]} \n",
        "          for split_name in a_split}"
      ]
    },
    {
      "cell_type": "code",
      "execution_count": null,
      "metadata": {
        "id": "DJk6fqGMIWvm",
        "colab": {
          "base_uri": "https://localhost:8080/"
        },
        "outputId": "6a7ddad4-6cb5-410f-b441-11f801718868"
      },
      "outputs": [
        {
          "output_type": "stream",
          "name": "stdout",
          "text": [
            "X_train: (7592,), X_rem: (1899,), y_train: (7592,), y_rem: (1899,)\n",
            "X_test: (949,), X_valid: (950,), y_test: (949,), y_valid: (950,)\n",
            "X_train: (1437,), X_rem: (360,), y_train: (1437,), y_rem: (360,)\n",
            "X_test: (180,), X_valid: (180,), y_test: (180,), y_valid: (180,)\n"
          ]
        }
      ],
      "source": [
        "from sklearn.model_selection import train_test_split\n",
        "import numpy as np\n",
        "\n",
        "# Pull x and y values from dataframe\n",
        "datasets = {'tweet': twitter_df_train, 'reddit': reddit_df_train}\n",
        "\n",
        "# Define train:test:valid split ratios\n",
        "split_ratios = {'tweet': {'train_total_ratio': 0.8,\n",
        "                          'test_rem_ratio': 0.5},\n",
        "                \n",
        "                # Train:test:valid ratio of 8:1:1 for Reddit dataset\n",
        "                'reddit': {'train_total_ratio': 0.8,\n",
        "                           'test_rem_ratio': 0.5}}\n",
        "\n",
        "# Split individual tweet/reddit datasets\n",
        "split_datasets = {key: split_dataset(datasets[key], \n",
        "                                     split_ratios[key]['train_total_ratio'],\n",
        "                                     split_ratios[key]['test_rem_ratio'])\n",
        "                  for key in datasets}\n",
        "\n",
        "# Create and split combined dataset\n",
        "split_datasets['combined'] = combine_splits(split_datasets['tweet'], \n",
        "                                            split_datasets['reddit'])"
      ]
    },
    {
      "cell_type": "code",
      "execution_count": null,
      "metadata": {
        "id": "4ka5_qlfBr5W",
        "colab": {
          "base_uri": "https://localhost:8080/"
        },
        "outputId": "dec9ac12-1e0c-45ba-b3e0-e061c48b4cc3"
      },
      "outputs": [
        {
          "output_type": "execute_result",
          "data": {
            "text/plain": [
              "dict_keys(['tweet', 'reddit', 'combined'])"
            ]
          },
          "metadata": {},
          "execution_count": 20
        }
      ],
      "source": [
        "split_datasets.keys()"
      ]
    },
    {
      "cell_type": "code",
      "execution_count": null,
      "metadata": {
        "id": "P4ukVb0RB0Tf",
        "colab": {
          "base_uri": "https://localhost:8080/"
        },
        "outputId": "207bc22d-77f9-451f-dd98-5c52bec65264"
      },
      "outputs": [
        {
          "output_type": "stream",
          "name": "stdout",
          "text": [
            "Keys in tweet are dict_keys(['train', 'test', 'valid'])\n",
            "Keys in reddit are dict_keys(['train', 'test', 'valid'])\n",
            "Keys in combined are dict_keys(['train', 'test', 'valid'])\n"
          ]
        }
      ],
      "source": [
        "print (f'Keys in {TWEET} are {split_datasets[TWEET].keys()}')\n",
        "print (f'Keys in {REDDIT} are {split_datasets[REDDIT].keys()}')\n",
        "print (f'Keys in {COMBINED} are {split_datasets[COMBINED].keys()}')"
      ]
    },
    {
      "cell_type": "code",
      "execution_count": null,
      "metadata": {
        "id": "O2T_2R1dCS0J"
      },
      "outputs": [],
      "source": [
        "# Ensure the features were correctly combines\n",
        "features_in_twitter = len(split_datasets[TWEET][TRAIN]['X'])\n",
        "features_in_reddit = len(split_datasets[REDDIT][TRAIN]['X'])\n",
        "features_in_combined = len(split_datasets[COMBINED][TRAIN]['X'])\n",
        "\n",
        "assert features_in_combined == (features_in_twitter + features_in_reddit), f'Features do not match'\n",
        "\n",
        "# Ensure the labels were correctly combined\n",
        "labels_in_twitter = len(split_datasets[TWEET][TRAIN]['y'])\n",
        "labels_in_reddit = len(split_datasets[REDDIT][TRAIN]['y'])\n",
        "labels_in_combined = len(split_datasets[COMBINED][TRAIN]['y'])\n",
        "\n",
        "assert labels_in_combined == (labels_in_twitter + labels_in_reddit), f'Labels do not match'"
      ]
    },
    {
      "cell_type": "markdown",
      "metadata": {
        "id": "-jjesZVYGUcp"
      },
      "source": [
        "After splitting the dataset, we will be left with the following structure:\n",
        "\n",
        "```\n",
        "split_datasets\n",
        "├── tweet\n",
        "│   ├── train\n",
        "│   │   ├── X\n",
        "│   │   └── y\n",
        "│   ├── test\n",
        "│   └── valid\n",
        "├── reddit\n",
        "│   ├── train\n",
        "│   ├── test\n",
        "│   └── valid\n",
        "└── combined\n",
        "    ├── train\n",
        "    ├── test\n",
        "    └── valid\n",
        "```\n",
        "\n",
        "\n",
        "\n"
      ]
    },
    {
      "cell_type": "markdown",
      "metadata": {
        "id": "CG3BOzbvFVZi"
      },
      "source": [
        "## Research regarding data and data split\n",
        "\n",
        "Pei and Jurgens (2020) conducted analyses for an issue in pre-processing, where they were only able to do it for 1,000 tweets. They found that the distribution of the final annotated intimacy scores are not changed much while the fine-tuned XLM-T only achieved a Pearson’s r of 0.43 on the random sample, suggesting that the model trained on Reddit questions may not be reliable enough to detect intimacy in tweets. A potential goal of ours is too improve upon this making the model reliable for even reddit questions.\n",
        "\n",
        "(Liu et al., 2019) include two variants: one which is fine-tuned on 3M unannotated questions on a masked language modeling task, and a second which uses the default parameters in RoBERTa. Training uses only the 2,247 annotated Reddit questions, split 8:1:1 into training, validation, and test.\n"
      ]
    },
    {
      "cell_type": "markdown",
      "metadata": {
        "id": "f8UBMZXFiBkl"
      },
      "source": [
        "## Preparing data"
      ]
    },
    {
      "cell_type": "markdown",
      "metadata": {
        "id": "5qhe6gW2vQKx"
      },
      "source": [
        "Before sending the data to the model, we will preprocess it."
      ]
    },
    {
      "cell_type": "markdown",
      "source": [
        "### Create save location for models"
      ],
      "metadata": {
        "id": "qF3XgMBtzCGF"
      }
    },
    {
      "cell_type": "markdown",
      "metadata": {
        "id": "9XVIQKO4yUlA"
      },
      "source": [
        "### Define the datasets"
      ]
    },
    {
      "cell_type": "markdown",
      "metadata": {
        "id": "tYVVj8TCkdhE"
      },
      "source": [
        "We will have identifiers for each word in a language produced by tokenization. During this process, chunks of words, such as a sentence or a phrase, are broken down into smaller units. Each unit is called a token which could be words, numbers, or punctuation marks. \n",
        "\n",
        "Any word not in our dictionary will be replaced with the `unknown` token. \n",
        "\n",
        "Reference:\n",
        "- [Tokenizer - huggingface.co](https://huggingface.co/docs/transformers/main_classes/tokenizer)"
      ]
    },
    {
      "cell_type": "code",
      "execution_count": null,
      "metadata": {
        "id": "ntGh4lzSiT1V"
      },
      "outputs": [],
      "source": [
        "def tokenize_catch_unknown(word, tokenizer, vocab):\n",
        "  \"\"\"\n",
        "  Description: Tokenizes a word if it is known, but catches unknown words and replaces it with unknown tokens.\n",
        "  \n",
        "  \"\"\"\n",
        "  if vocab.get(word):\n",
        "    return tokenizer.tokenize(word)\n",
        "  else:\n",
        "    return [tokenizer.unk_token]"
      ]
    },
    {
      "cell_type": "code",
      "execution_count": null,
      "metadata": {
        "id": "_ve1a_GBqSDW"
      },
      "outputs": [],
      "source": [
        "def prepare_document_encoding(document, tokenizer, vocab):\n",
        "  \"\"\"\n",
        "  Description: Converts one document (a tweet or other text) into tokens in the model's vocabulary.\n",
        "  Returns a dictionary containing the tokens as text, the numerical ids of the tokens, and the score label for the document (already numerical here)\n",
        "\n",
        "  \"\"\"\n",
        "  tokenized = [tokenizer.cls_token] + [token for word in document for token in tokenize_catch_unknown(word, tokenizer, vocab)]\n",
        "  input_ids = [tokenizer.convert_tokens_to_ids(token) for token in tokenized]\n",
        "\n",
        "  return {\"tokenized\": tokenized, \n",
        "          \"input_ids\": input_ids}\n"
      ]
    },
    {
      "cell_type": "code",
      "execution_count": null,
      "metadata": {
        "id": "QxXyCQs_pA8B"
      },
      "outputs": [],
      "source": [
        "def prepare_data(data, tokenizer, vocab):\n",
        "  \"\"\"\n",
        "  Description: Converts the documents in the data into tokens in the model's vocabulary.\n",
        "\n",
        "  \"\"\"\n",
        "  for split in data:\n",
        "    data[split]['tokenized'] = []\n",
        "    data[split]['input_ids'] = []\n",
        "    data[split]['labels'] = []\n",
        "\n",
        "    for document, label in zip(data[split]['X'], data[split]['y']):\n",
        "      prepared_document = prepare_document_encoding(document, tokenizer, vocab)\n",
        "\n",
        "      data[split]['tokenized'] += [prepared_document['tokenized']]\n",
        "      data[split]['input_ids'] += [prepared_document['input_ids']]\n",
        "      data[split]['labels'] += [label]\n",
        "\n",
        "  return data\n"
      ]
    },
    {
      "cell_type": "code",
      "execution_count": null,
      "metadata": {
        "id": "0tBXz_-gvv1c"
      },
      "outputs": [],
      "source": [
        "import torch\n",
        "from torch.utils.data import Dataset\n",
        "\n",
        "class IADataset(Dataset):\n",
        "  def __init__(self, data, pad_token_id):\n",
        "        self.tokenized = data['tokenized']\n",
        "        self.input_ids = data['input_ids']\n",
        "        self.labels = data['labels']\n",
        "\n",
        "        self.pad_token_id = pad_token_id\n",
        "  \n",
        "  def __len__(self):\n",
        "        return len(self.input_ids)\n",
        "\n",
        "  def __getitem__(self, index):\n",
        "        return self.input_ids[index], self.labels[index]\n",
        "\n",
        "  # Try without batch collation\n",
        "  def collate_fn(self, batch):\n",
        "        \"\"\"\n",
        "        Description:\n",
        "            This function collates lists of samples into batches. It should be passed as the `collate_fn` argument when creating dataloaders.\n",
        "        Inputs:\n",
        "            - batch (List[Tuple]): a list of tuples. The tuple (Tuple[List]) in the batch is the return value (List[List]) of \n",
        "              `__getitem(self, index)` function. The elements are: 1) a List[int] (input_ids) and 2) a real (label).\n",
        "        Outputs:\n",
        "            - input_dict (Dict[str, torch.LongTensor]): a dictionary containing a mapping between input names and input values. The `input_ids` \n",
        "              (torch.LongTensor of shape (batch_size, sequence_length)) and `labels` (torch.FloatTensor of shape (batch_size, sequence_length)) \n",
        "              in the dictionary are token indexes and label values, respectively.\n",
        "        \"\"\"\n",
        "\n",
        "        # unwrap the batch into every field\n",
        "        input_ids, labels = map(list, zip(*batch))\n",
        "\n",
        "        max_length = max(map(len, input_ids))\n",
        "\n",
        "        padded_input_ids = [i + [self.pad_token_id] * (max_length - len(i)) for i in input_ids]\n",
        "        attention_masks = [[1 for id in i] + [0] * (max_length - len(i)) for i in input_ids]\n",
        "\n",
        "        input_dict = {\n",
        "            'input_ids': torch.tensor(padded_input_ids).long(),\n",
        "            'attention_masks': torch.tensor(attention_masks).long(),\n",
        "            'labels': torch.tensor(labels).to(torch.float64)\n",
        "        }\n",
        "\n",
        "        return input_dict"
      ]
    },
    {
      "cell_type": "code",
      "execution_count": null,
      "metadata": {
        "id": "TvHaduy9yDyp"
      },
      "outputs": [],
      "source": [
        "def get_ia_splits(data, pad_token_id):\n",
        "  \"\"\"\n",
        "  Description: Creates IADatasets around each split of the dataset.\n",
        "  \"\"\"\n",
        "  ia_splits = {split: IADataset(data[split], pad_token_id)\n",
        "                  for split in data}\n",
        "\n",
        "  return ia_splits"
      ]
    },
    {
      "cell_type": "code",
      "execution_count": null,
      "metadata": {
        "colab": {
          "base_uri": "https://localhost:8080/"
        },
        "id": "LB7ox430t3bx",
        "outputId": "64da3fc5-7727-490d-fdb9-c496ad266c4d"
      },
      "outputs": [
        {
          "output_type": "execute_result",
          "data": {
            "text/plain": [
              "dict_keys(['tweet', 'reddit', 'combined'])"
            ]
          },
          "metadata": {},
          "execution_count": 28
        }
      ],
      "source": [
        "# Convert the documents into sequences of input ids in the model's vocabulary\n",
        "vocab = tokenizer.get_vocab()\n",
        "\n",
        "prepared_datasets = {key: prepare_data(split_datasets[key], tokenizer, vocab) for key in split_datasets}\n",
        "\n",
        "prepared_datasets.keys()"
      ]
    },
    {
      "cell_type": "code",
      "execution_count": null,
      "metadata": {
        "id": "kW_b35tDED9u"
      },
      "outputs": [],
      "source": [
        "assert len(prepared_datasets[TWEET][TRAIN]['X']) == features_in_twitter, f\"Mismatched sizes, expected {features_in_twitter}, got {len(prepared_datasets[TWEET][TRAIN]['X'])}\"\n",
        "assert len(prepared_datasets[REDDIT][TRAIN]['X']) == features_in_reddit, f\"Mismatched sizes, expected {features_in_reddit}, got {len(prepared_datasets[REDDIT][TRAIN]['X'])}\"\n",
        "assert len(prepared_datasets[COMBINED][TRAIN]['X']) == features_in_combined, f\"Mismatched sizes, expected {features_in_combined}, got {len(prepared_datasets[COMBINED][TRAIN]['X'])}\"\n",
        "\n",
        "assert len(prepared_datasets[TWEET][TRAIN]['y']) == labels_in_twitter, f\"Mismatched sizes, expected {labels_in_twitter}, got {len(prepared_datasets[TWEET][TRAIN]['y'])}\"\n",
        "assert len(prepared_datasets[REDDIT][TRAIN]['y']) == labels_in_reddit, f\"Mismatched sizes, expected {labels_in_reddit}, got {len(prepared_datasets[REDDIT][TRAIN]['y'])}\"\n",
        "assert len(prepared_datasets[COMBINED][TRAIN]['y']) == labels_in_combined, f\"Mismatched sizes, expected {labels_in_combined}, got {len(prepared_datasets[COMBINED][TRAIN]['y'])}\"\n"
      ]
    },
    {
      "cell_type": "code",
      "execution_count": null,
      "metadata": {
        "colab": {
          "base_uri": "https://localhost:8080/"
        },
        "id": "q_zb4zynba0N",
        "outputId": "851f9125-721a-41c9-876f-6cfccf89fd67"
      },
      "outputs": [
        {
          "output_type": "execute_result",
          "data": {
            "text/plain": [
              "{'tweet': {'train': <__main__.IADataset at 0x7f6f28f522f0>,\n",
              "  'test': <__main__.IADataset at 0x7f6f28f51ff0>,\n",
              "  'valid': <__main__.IADataset at 0x7f6f28f51ae0>},\n",
              " 'reddit': {'train': <__main__.IADataset at 0x7f6ee6ef9180>,\n",
              "  'test': <__main__.IADataset at 0x7f6ee6ef9150>,\n",
              "  'valid': <__main__.IADataset at 0x7f6ee6ef9210>},\n",
              " 'combined': {'train': <__main__.IADataset at 0x7f6ee6ef8eb0>,\n",
              "  'test': <__main__.IADataset at 0x7f6ee6ef9030>,\n",
              "  'valid': <__main__.IADataset at 0x7f6ee6ef8820>}}"
            ]
          },
          "metadata": {},
          "execution_count": 30
        }
      ],
      "source": [
        "ia_datasets = {key: get_ia_splits(prepared_datasets[key], \n",
        "                                    pad_token_id=tokenizer.pad_token_id) \n",
        "               for key in prepared_datasets}\n",
        "ia_datasets"
      ]
    },
    {
      "cell_type": "code",
      "execution_count": null,
      "metadata": {
        "id": "kkZPB5qgWuhy"
      },
      "outputs": [],
      "source": [
        "assert len(ia_datasets[TWEET][TRAIN].tokenized) == features_in_twitter, f\"Mismatched sizes, expected {features_in_twitter}, got {len(ia_datasets[TWEET][TRAIN].tokenized)}\"\n",
        "assert len(ia_datasets[REDDIT][TRAIN].tokenized) == features_in_reddit, f\"Mismatched sizes, expected {features_in_reddit}, got {len(ia_datasets[REDDIT][TRAIN].tokenized)}\"\n",
        "assert len(ia_datasets[COMBINED][TRAIN].tokenized) == features_in_combined, f\"Mismatched sizes, expected {features_in_combined}, got {len(ia_datasets[COMBINED][TRAIN].tokenized)}\""
      ]
    },
    {
      "cell_type": "code",
      "execution_count": null,
      "metadata": {
        "colab": {
          "base_uri": "https://localhost:8080/"
        },
        "id": "4Pmai-1BKwC2",
        "outputId": "3ca45b57-b513-4128-e312-2805bbafac1a"
      },
      "outputs": [
        {
          "output_type": "stream",
          "name": "stdout",
          "text": [
            "--TRAIN--\n",
            "IA Dataset Twitter length: 7592\n",
            "IA Dataset Reddit length: 1437\n",
            "IA Dataset combined length: 9029\n",
            "--TEST--\n",
            "IA Dataset Twitter length: 949\n",
            "IA Dataset Reddit length: 180\n",
            "IA Dataset combined length: 1129\n"
          ]
        }
      ],
      "source": [
        "print ('--TRAIN--')\n",
        "print (f'IA Dataset Twitter length: {len(ia_datasets[TWEET][TRAIN].tokenized)}')\n",
        "print (f'IA Dataset Reddit length: {len(ia_datasets[REDDIT][TRAIN].tokenized)}')\n",
        "print (f'IA Dataset combined length: {len(ia_datasets[COMBINED][TRAIN].tokenized)}')\n",
        "\n",
        "print ('--TEST--')\n",
        "print (f'IA Dataset Twitter length: {len(ia_datasets[TWEET][TEST].tokenized)}')\n",
        "print (f'IA Dataset Reddit length: {len(ia_datasets[REDDIT][TEST].tokenized)}')\n",
        "print (f'IA Dataset combined length: {len(ia_datasets[COMBINED][TEST].tokenized)}')\n",
        "\n",
        "assert len(ia_datasets[TWEET][TRAIN].tokenized) == features_in_twitter, f\"Mismatched sizes, expected {features_in_twitter}, got {len(ia_datasets[TWEET][TRAIN].tokenized)}\"\n",
        "assert len(ia_datasets[REDDIT][TRAIN].tokenized) == features_in_reddit, f\"Mismatched sizes, expected {features_in_reddit}, got {len(ia_datasets[REDDIT][TRAIN].tokenized)}\"\n",
        "assert len(ia_datasets[COMBINED][TRAIN].tokenized) == features_in_combined, f\"Mismatched sizes, expected {features_in_combined}, got {len(ia_datasets[COMBINED][TRAIN].tokenized)}\""
      ]
    },
    {
      "cell_type": "markdown",
      "metadata": {
        "id": "TbHVI5-LMV7S"
      },
      "source": [
        "The folder structure for `ia_datasets` will be:\n",
        "```\n",
        "ia_datasets\n",
        "├── tweet\n",
        "│   ├── train\n",
        "│   │   ├── tokenized\n",
        "│   │   ├── input_ids\n",
        "│   │   ├── labels\n",
        "│   │   └── pad_token_ids\n",
        "│   ├── test\n",
        "│   └── valid\n",
        "├── reddit\n",
        "└── combined\n",
        "```"
      ]
    },
    {
      "cell_type": "code",
      "execution_count": null,
      "metadata": {
        "colab": {
          "base_uri": "https://localhost:8080/"
        },
        "id": "Kc2y6CjmjOkk",
        "outputId": "4973f5af-48d9-442a-e4ee-37bb7e1d35f0"
      },
      "outputs": [
        {
          "output_type": "execute_result",
          "data": {
            "text/plain": [
              "0"
            ]
          },
          "metadata": {},
          "execution_count": 33
        }
      ],
      "source": [
        "# Cleanup to save RAM\n",
        "del prepared_datasets\n",
        "del split_datasets\n",
        "del reddit_df_train\n",
        "del twitter_df_train\n",
        "\n",
        "import gc\n",
        "\n",
        "gc.collect()"
      ]
    },
    {
      "cell_type": "markdown",
      "metadata": {
        "id": "wGYgcEyZyfBd"
      },
      "source": [
        "### Define the DataLoaders"
      ]
    },
    {
      "cell_type": "markdown",
      "metadata": {
        "id": "lKGXEDu2vX4j"
      },
      "source": [
        "Dataloaders are constructs of the PyTorch library which define and control data preprocessing. The data will be fed in batches to the model. This is important because it is inefficient to load the data altogether in memory at once. The size of the data loaded at any given time into memory is controlled by the `batch_size` which is 32 for the training, validation and testing datasets.  \n",
        "\n",
        "Every DataLoader has a Sampler which is used internally to get the indices for each batch. \n",
        "\n",
        "The `SequentialSampler` iterates over the dataset in a sequential order. For example: `[1,2,3]` -> `1,2,3`. Here the `shuffle` parameter is set to `false`.\n",
        "\n",
        "The `RandomSampler` is just like it's sequential counterpart, but with `shuffle=True`.\n",
        "\n",
        "\n",
        "References:\n",
        "- [torch.utils.data — PyTorch 1.13 documentation](https://pytorch.org/docs/stable/data.html)\n",
        "- [SequentialSampler](https://www.scottcondron.com/jupyter/visualisation/audio/2020/12/02/dataloaders-samplers-collate.html#SequentialSampler)"
      ]
    },
    {
      "cell_type": "code",
      "execution_count": null,
      "metadata": {
        "colab": {
          "base_uri": "https://localhost:8080/"
        },
        "id": "69lZIC8YyeRQ",
        "outputId": "662f37ad-8ef1-4c23-9e7f-89c40d11fcbf"
      },
      "outputs": [
        {
          "output_type": "execute_result",
          "data": {
            "text/plain": [
              "{'tweet': {'train': <torch.utils.data.dataloader.DataLoader at 0x7f6ee6cfba00>,\n",
              "  'test': <torch.utils.data.dataloader.DataLoader at 0x7f6ee6cfab90>,\n",
              "  'valid': <torch.utils.data.dataloader.DataLoader at 0x7f6ee6cfb490>},\n",
              " 'reddit': {'train': <torch.utils.data.dataloader.DataLoader at 0x7f6ee6cfb130>,\n",
              "  'test': <torch.utils.data.dataloader.DataLoader at 0x7f6ee6cfa020>,\n",
              "  'valid': <torch.utils.data.dataloader.DataLoader at 0x7f6ee6cfb190>},\n",
              " 'combined': {'train': <torch.utils.data.dataloader.DataLoader at 0x7f6ee6cfae30>,\n",
              "  'test': <torch.utils.data.dataloader.DataLoader at 0x7f6ee6cf9fc0>,\n",
              "  'valid': <torch.utils.data.dataloader.DataLoader at 0x7f6ee6cf9f30>}}"
            ]
          },
          "metadata": {},
          "execution_count": 34
        }
      ],
      "source": [
        "from torch.utils.data import BatchSampler, DataLoader, RandomSampler, SequentialSampler\n",
        "\n",
        "def get_dataloaders(datasets, train_batch_size, eval_batch_size):\n",
        "    \"\"\"\n",
        "    Description:\n",
        "        This function implements batch training by creating dataloaders for datasets to acclerate training.\n",
        "    Inputs:\n",
        "        - datasets (Dict[str, Dict]): a dictionary containing a mapping between dataset names and dataset values. \n",
        "        - train_batch_size (int): an integer which is used as the batch size when creating the train dataloader\n",
        "        - eval_batch_size (int): an integer which is used as the batch size when creating the validation and test dataloader\n",
        "    \"\"\"\n",
        "    # Retrieve the dataset split labels (\"train\", \"validation\", \"test\")\n",
        "    splits = datasets.keys()\n",
        "\n",
        "    # Choose different parameters for each dataset split\n",
        "    sampler_classes = {split: \n",
        "                       (RandomSampler if split == \"train\" else SequentialSampler) \n",
        "                       for split in splits}\n",
        "\n",
        "    batch_sizes = {split: \n",
        "                   (train_batch_size if split == \"train\" else eval_batch_size) \n",
        "                   for split in splits}\n",
        "\n",
        "    # Initialize the BatchSamplers with the differentiated parameters\n",
        "    batch_samplers = {split: \n",
        "                      BatchSampler(sampler_classes[split](datasets[split]),\n",
        "                                   batch_sizes[split],\n",
        "                                   drop_last=False)\n",
        "                      for split in splits}\n",
        "\n",
        "    # Build the dataloaders from the initialized BatchSamplers and the custom collate_fn\n",
        "    dataloaders = {split: \n",
        "                   DataLoader(datasets[split], \n",
        "                              batch_sampler=batch_samplers[split],\n",
        "                              collate_fn=datasets[split].collate_fn)\n",
        "                   for split in splits}\n",
        "\n",
        "    return dataloaders\n",
        "\n",
        "TRAIN_BATCH_SIZE = 16\n",
        "EVAL_BATCH_SIZE = 16\n",
        "\n",
        "dataloaders = {key: get_dataloaders(ia_datasets[key], train_batch_size=TRAIN_BATCH_SIZE, eval_batch_size=EVAL_BATCH_SIZE) \n",
        "               for key in ia_datasets}\n",
        "dataloaders"
      ]
    },
    {
      "cell_type": "markdown",
      "metadata": {
        "id": "vcE3nPt_REtM"
      },
      "source": [
        "Check to ensure that lengths of dataset are as expected."
      ]
    },
    {
      "cell_type": "code",
      "execution_count": null,
      "metadata": {
        "colab": {
          "base_uri": "https://localhost:8080/"
        },
        "id": "En9tAuxiM3rJ",
        "outputId": "2bdb91e5-9beb-49d7-afd0-3a69643b66f0"
      },
      "outputs": [
        {
          "output_type": "stream",
          "name": "stdout",
          "text": [
            "tweet's train length is 475.\n",
            "tweet's test length is 60.\n",
            "tweet's valid length is 60.\n",
            "tweet is good.\n",
            "\n",
            "reddit's train length is 90.\n",
            "reddit's test length is 12.\n",
            "reddit's valid length is 12.\n",
            "reddit is good.\n",
            "\n",
            "combined's train length is 565.\n",
            "combined's test length is 71.\n",
            "combined's valid length is 71.\n",
            "combined is good.\n",
            "\n",
            "All good - sizes are as expected!\n"
          ]
        }
      ],
      "source": [
        "import math \n",
        "\n",
        "def check_size(dataType, partitionType):\n",
        "  if partitionType == TRAIN: batchSize = TRAIN_BATCH_SIZE\n",
        "  else: batchSize = EVAL_BATCH_SIZE\n",
        "\n",
        "  got = len(dataloaders[dataType][partitionType])\n",
        "  expected = math.ceil(len(ia_datasets[dataType][partitionType].tokenized)/batchSize)\n",
        "  assert got == expected, f'Got {got}, expected {expected}'\n",
        "\n",
        "  print (f'{dataType}\\'s {partitionType} length is {expected}.')\n",
        "\n",
        "for d in [TWEET, REDDIT, COMBINED]:\n",
        "  for p in [TRAIN, TEST, 'valid']:\n",
        "    check_size(d, p)\n",
        "  print (f'{d} is good.\\n')\n",
        "    \n",
        "print ('All good - sizes are as expected!')"
      ]
    },
    {
      "cell_type": "markdown",
      "metadata": {
        "id": "k0rmOLQcDI7C"
      },
      "source": [
        "## RoBERTa Model Architecture"
      ]
    },
    {
      "cell_type": "code",
      "execution_count": null,
      "metadata": {
        "colab": {
          "base_uri": "https://localhost:8080/"
        },
        "id": "2-tiBzI6yFW4",
        "outputId": "25e36e62-5717-47ca-809b-7f507d95ccfb"
      },
      "outputs": [
        {
          "output_type": "execute_result",
          "data": {
            "text/plain": [
              "BertConfig {\n",
              "  \"_name_or_path\": \"bert-base-uncased\",\n",
              "  \"architectures\": [\n",
              "    \"BertForMaskedLM\"\n",
              "  ],\n",
              "  \"attention_probs_dropout_prob\": 0.1,\n",
              "  \"classifier_dropout\": null,\n",
              "  \"gradient_checkpointing\": false,\n",
              "  \"hidden_act\": \"gelu\",\n",
              "  \"hidden_dropout_prob\": 0.1,\n",
              "  \"hidden_size\": 768,\n",
              "  \"initializer_range\": 0.02,\n",
              "  \"intermediate_size\": 3072,\n",
              "  \"layer_norm_eps\": 1e-12,\n",
              "  \"max_position_embeddings\": 512,\n",
              "  \"model_type\": \"bert\",\n",
              "  \"num_attention_heads\": 12,\n",
              "  \"num_hidden_layers\": 12,\n",
              "  \"pad_token_id\": 0,\n",
              "  \"position_embedding_type\": \"absolute\",\n",
              "  \"transformers_version\": \"4.29.1\",\n",
              "  \"type_vocab_size\": 2,\n",
              "  \"use_cache\": true,\n",
              "  \"vocab_size\": 30522\n",
              "}"
            ]
          },
          "metadata": {},
          "execution_count": 36
        }
      ],
      "source": [
        "from transformers import AutoConfig\n",
        "\n",
        "# set up the configuration for BERT model\n",
        "config = AutoConfig.from_pretrained(PRETRAINED_MODEL_NAME)\n",
        "config"
      ]
    },
    {
      "cell_type": "markdown",
      "metadata": {
        "id": "I-bXQPBBVyEH"
      },
      "source": [
        "#### RobERTa Regressor - New"
      ]
    },
    {
      "cell_type": "code",
      "execution_count": null,
      "metadata": {
        "colab": {
          "base_uri": "https://localhost:8080/",
          "height": 36
        },
        "id": "75IywPoWi9F3",
        "outputId": "63349e28-75b7-47c8-91f4-ab017a914198"
      },
      "outputs": [
        {
          "output_type": "execute_result",
          "data": {
            "text/plain": [
              "'cuda:0'"
            ],
            "application/vnd.google.colaboratory.intrinsic+json": {
              "type": "string"
            }
          },
          "metadata": {},
          "execution_count": 37
        }
      ],
      "source": [
        "import torch\n",
        "\n",
        "PRETRAINED_MODEL_NAME = f\"bert-base-uncased\"\n",
        "\n",
        "DEVICE = 'cuda:0' if torch.cuda.is_available() else 'cpu'\n",
        "DEVICE"
      ]
    },
    {
      "cell_type": "code",
      "execution_count": null,
      "metadata": {
        "id": "_FmHWfNOV1iv"
      },
      "outputs": [],
      "source": [
        "import torch.nn as nn\n",
        "from transformers import BertModel, BertForMaskedLM\n",
        "\n",
        "class BertRegressor(nn.Module):\n",
        "    \n",
        "    def __init__(self, pretrained_model_name_or_path, drop_rate=0.2, freeze_camembert=False):\n",
        "\n",
        "        super(BertRegressor, self).__init__()\n",
        "        D_in, D_out = 768, 1\n",
        "        \n",
        "        self.bert = BertModel.from_pretrained(pretrained_model_name_or_path)\n",
        "        self.regressor = nn.Sequential(\n",
        "            nn.Dropout(drop_rate),\n",
        "            nn.Linear(D_in, D_out)\n",
        "            )\n",
        "\n",
        "\n",
        "    def forward(self, input_ids, attention_masks):\n",
        "        outputs = self.bert(input_ids, attention_masks)\n",
        "        class_label_output = outputs[1]\n",
        "        outputs = self.regressor(class_label_output)\n",
        "        return outputs"
      ]
    },
    {
      "cell_type": "markdown",
      "metadata": {
        "id": "TLSbvhNJe7xg"
      },
      "source": [
        "## Training"
      ]
    },
    {
      "cell_type": "markdown",
      "source": [
        "In the report (Liu et al., 2019), the parameters: \n",
        "- Batch size is 128 and learning rate is 0.0001 with max length set to 50.\n",
        "- AdamW (Kingma and Ba, 2014) used for optimization.\n",
        "- All the other hyperparameters and the model size are the same as the default roberta-base model\n",
        "\n",
        "**Training**\n",
        "They trained model for five epochs, selecting model with lowest MSE on validation set. \n",
        "\n",
        "**fine-tuning process**: They followed all default settings recommended by Hugging Face.\n",
        "\n",
        "**Tuning Learning Rate**: 0.0001 and 0.00001 both achieved good scores regarding MSE and Pearson r."
      ],
      "metadata": {
        "id": "6r610hDipzT4"
      }
    },
    {
      "cell_type": "markdown",
      "metadata": {
        "id": "MIhkV6Rbd2ju"
      },
      "source": [
        "#### Training Loop\n",
        "\n",
        "Define the custom training loop for the regression task.  "
      ]
    },
    {
      "cell_type": "code",
      "source": [
        "from torch.nn.utils.clip_grad import clip_grad_norm\n",
        "from tqdm import tqdm\n",
        "\n",
        "def train(model, optimizer, scheduler, loss_function, epochs,       \n",
        "          train_dataloader, device, clip_value=2):\n",
        "  \n",
        "\n",
        "    for epoch in range(epochs):\n",
        "        print(f'Epoch #{epoch}')\n",
        "\n",
        "        best_loss = 1e10\n",
        "        model.train()\n",
        "\n",
        "        for step, batch in enumerate(tqdm(train_dataloader)): \n",
        "\n",
        "            batch_inputs, batch_masks, batch_labels = \\\n",
        "                               tuple(batch[field].to(device) for field in batch)\n",
        "\n",
        "\n",
        "            model.zero_grad()\n",
        "            outputs = model(batch_inputs, batch_masks)           \n",
        "            \n",
        "            outputs = outputs.to(torch.float64)\n",
        "            batch_masks = batch_masks.to(torch.float64)\n",
        "\n",
        "            loss = loss_function(outputs.squeeze(), \n",
        "                             batch_labels.squeeze())\n",
        "\n",
        "            loss.backward()\n",
        "            clip_grad_norm(model.parameters(), clip_value)\n",
        "            optimizer.step()\n",
        "            scheduler.step()\n",
        "                \n",
        "    return model"
      ],
      "metadata": {
        "id": "ovmD-wbxcipF"
      },
      "execution_count": null,
      "outputs": []
    },
    {
      "cell_type": "markdown",
      "source": [
        "Train on one dataset, save to persistent storage and delete to free up space."
      ],
      "metadata": {
        "id": "qE48qsQAi7Mj"
      }
    },
    {
      "cell_type": "code",
      "source": [
        "from transformers import AdamW\n",
        "from transformers import get_linear_schedule_with_warmup\n",
        "\n",
        "SAVED_MODEL_PATH = '/content/drive/MyDrive/download_models/model_state_dict_'\n",
        "\n",
        "def train_and_save(variant_name):\n",
        "  print (f'Training on {variant_name}')\n",
        "\n",
        "  # Create default model\n",
        "  model = BertRegressor(PRETRAINED_MODEL_NAME, drop_rate=0.2).to(DEVICE)\n",
        "\n",
        "  # Define optimizer\n",
        "  optimizer = AdamW(model.parameters(),\n",
        "                  lr=5e-5,\n",
        "                  eps=1e-8)\n",
        "  \n",
        "  # Define scheduler\n",
        "  epochs = 5\n",
        "  total_steps = len(dataloaders[TWEET][TRAIN]) * epochs\n",
        "  scheduler = get_linear_schedule_with_warmup(optimizer,       \n",
        "                 num_warmup_steps=0, num_training_steps=total_steps)\n",
        "  \n",
        "  # Define loss function\n",
        "  loss_function = nn.MSELoss()\n",
        "\n",
        "  # Fine-tune on one of our datasets\n",
        "  model = train(model, optimizer, scheduler, loss_function, epochs, \n",
        "            dataloaders[variant_name][TRAIN], DEVICE, clip_value=2)\n",
        "  \n",
        "  # Save the model's learned state so it can be recovered for evaluation\n",
        "  torch.save(model.state_dict(), SAVED_MODEL_PATH + variant_name)\n",
        "\n",
        "  # Delete the model to free up GPU memory space\n",
        "  del model\n"
      ],
      "metadata": {
        "id": "CRJL67rmiggq"
      },
      "execution_count": null,
      "outputs": []
    },
    {
      "cell_type": "markdown",
      "source": [
        "Train, save each version of the fine tuned model."
      ],
      "metadata": {
        "id": "D7U1Ze-O4KmR"
      }
    },
    {
      "cell_type": "code",
      "source": [
        "for name in [TWEET, REDDIT, COMBINED]:\n",
        "  train_and_save(name)"
      ],
      "metadata": {
        "colab": {
          "base_uri": "https://localhost:8080/",
          "height": 739,
          "referenced_widgets": [
            "18c1feffa5e84b11a31f9dc8a3cf8e1c",
            "b7d5537a8ea44c59a3324265f1ee238f",
            "86a2b8d02ebc4609bdde6f4cd04a9442",
            "05aeb9ee783d4f4b96b7effa536383ab",
            "96e1865ac51a4e88bfbb0fdc4e9d525f",
            "fff78ffc758044f6b3f71ad1bcdc6ffc",
            "8019d38ba6fa4428bd551faae1d546a7",
            "81716a46a1b948388ebf101cf9b0801c",
            "302fddecdfe545269b13522d6ffa22c3",
            "941f75511b0b4c039c5d6c8d60cca614",
            "cb1e58ac8b1a402f985e6cf001a2f640"
          ]
        },
        "id": "ibjlqzz_kIsZ",
        "outputId": "d9618451-775b-42f0-ee03-fd4f12dc0cae"
      },
      "execution_count": null,
      "outputs": [
        {
          "output_type": "stream",
          "name": "stdout",
          "text": [
            "Training on tweet\n"
          ]
        },
        {
          "output_type": "display_data",
          "data": {
            "text/plain": [
              "Downloading pytorch_model.bin:   0%|          | 0.00/440M [00:00<?, ?B/s]"
            ],
            "application/vnd.jupyter.widget-view+json": {
              "version_major": 2,
              "version_minor": 0,
              "model_id": "18c1feffa5e84b11a31f9dc8a3cf8e1c"
            }
          },
          "metadata": {}
        },
        {
          "output_type": "stream",
          "name": "stderr",
          "text": [
            "/usr/local/lib/python3.10/dist-packages/transformers/optimization.py:407: FutureWarning: This implementation of AdamW is deprecated and will be removed in a future version. Use the PyTorch implementation torch.optim.AdamW instead, or set `no_deprecation_warning=True` to disable this warning\n",
            "  warnings.warn(\n"
          ]
        },
        {
          "output_type": "stream",
          "name": "stdout",
          "text": [
            "Epoch #0\n"
          ]
        },
        {
          "output_type": "stream",
          "name": "stderr",
          "text": [
            "  0%|          | 0/475 [00:00<?, ?it/s]<ipython-input-39-5fed698139d4>:30: UserWarning: torch.nn.utils.clip_grad_norm is now deprecated in favor of torch.nn.utils.clip_grad_norm_.\n",
            "  clip_grad_norm(model.parameters(), clip_value)\n",
            "100%|██████████| 475/475 [00:46<00:00, 10.31it/s]\n"
          ]
        },
        {
          "output_type": "stream",
          "name": "stdout",
          "text": [
            "Epoch #1\n"
          ]
        },
        {
          "output_type": "stream",
          "name": "stderr",
          "text": [
            "100%|██████████| 475/475 [00:42<00:00, 11.13it/s]\n"
          ]
        },
        {
          "output_type": "stream",
          "name": "stdout",
          "text": [
            "Epoch #2\n"
          ]
        },
        {
          "output_type": "stream",
          "name": "stderr",
          "text": [
            "100%|██████████| 475/475 [00:42<00:00, 11.08it/s]\n"
          ]
        },
        {
          "output_type": "stream",
          "name": "stdout",
          "text": [
            "Epoch #3\n"
          ]
        },
        {
          "output_type": "stream",
          "name": "stderr",
          "text": [
            "100%|██████████| 475/475 [00:42<00:00, 11.16it/s]\n"
          ]
        },
        {
          "output_type": "stream",
          "name": "stdout",
          "text": [
            "Epoch #4\n"
          ]
        },
        {
          "output_type": "stream",
          "name": "stderr",
          "text": [
            "100%|██████████| 475/475 [00:42<00:00, 11.09it/s]\n"
          ]
        },
        {
          "output_type": "stream",
          "name": "stdout",
          "text": [
            "Training on reddit\n",
            "Epoch #0\n"
          ]
        },
        {
          "output_type": "stream",
          "name": "stderr",
          "text": [
            "100%|██████████| 90/90 [00:09<00:00,  9.88it/s]\n"
          ]
        },
        {
          "output_type": "stream",
          "name": "stdout",
          "text": [
            "Epoch #1\n"
          ]
        },
        {
          "output_type": "stream",
          "name": "stderr",
          "text": [
            "100%|██████████| 90/90 [00:09<00:00,  9.82it/s]\n"
          ]
        },
        {
          "output_type": "stream",
          "name": "stdout",
          "text": [
            "Epoch #2\n"
          ]
        },
        {
          "output_type": "stream",
          "name": "stderr",
          "text": [
            "100%|██████████| 90/90 [00:08<00:00, 10.01it/s]\n"
          ]
        },
        {
          "output_type": "stream",
          "name": "stdout",
          "text": [
            "Epoch #3\n"
          ]
        },
        {
          "output_type": "stream",
          "name": "stderr",
          "text": [
            "100%|██████████| 90/90 [00:09<00:00,  9.93it/s]\n"
          ]
        },
        {
          "output_type": "stream",
          "name": "stdout",
          "text": [
            "Epoch #4\n"
          ]
        },
        {
          "output_type": "stream",
          "name": "stderr",
          "text": [
            "100%|██████████| 90/90 [00:08<00:00, 10.05it/s]\n"
          ]
        },
        {
          "output_type": "stream",
          "name": "stdout",
          "text": [
            "Training on combined\n",
            "Epoch #0\n"
          ]
        },
        {
          "output_type": "stream",
          "name": "stderr",
          "text": [
            "100%|██████████| 565/565 [00:52<00:00, 10.80it/s]\n"
          ]
        },
        {
          "output_type": "stream",
          "name": "stdout",
          "text": [
            "Epoch #1\n"
          ]
        },
        {
          "output_type": "stream",
          "name": "stderr",
          "text": [
            "100%|██████████| 565/565 [00:52<00:00, 10.86it/s]\n"
          ]
        },
        {
          "output_type": "stream",
          "name": "stdout",
          "text": [
            "Epoch #2\n"
          ]
        },
        {
          "output_type": "stream",
          "name": "stderr",
          "text": [
            "100%|██████████| 565/565 [00:51<00:00, 10.90it/s]\n"
          ]
        },
        {
          "output_type": "stream",
          "name": "stdout",
          "text": [
            "Epoch #3\n"
          ]
        },
        {
          "output_type": "stream",
          "name": "stderr",
          "text": [
            "100%|██████████| 565/565 [00:51<00:00, 10.90it/s]\n"
          ]
        },
        {
          "output_type": "stream",
          "name": "stdout",
          "text": [
            "Epoch #4\n"
          ]
        },
        {
          "output_type": "stream",
          "name": "stderr",
          "text": [
            "100%|██████████| 565/565 [00:52<00:00, 10.86it/s]\n"
          ]
        }
      ]
    },
    {
      "cell_type": "markdown",
      "metadata": {
        "id": "TeWs14NTCxgB"
      },
      "source": [
        "## Evaluation"
      ]
    },
    {
      "cell_type": "markdown",
      "metadata": {
        "id": "D3L-jqfgTMYt"
      },
      "source": [
        "### Reload models\n",
        "\n",
        "The three models can also be downloaded from these VIEW-ONLY links. These models are around 1GB in size. \n",
        "\n",
        "- `model_state_dict_combined`: https://drive.google.com/file/d/1-E66ega1p2xWBU2sVAjMU4I1jZX17cqy/view?usp=sharing \n",
        "- `model_state_dict_reddit`: https://drive.google.com/file/d/1-2taTlLRWZrcDA6Z2jgtOUzd_U74YHFF/view?usp=sharing \n",
        "- `model_state_dict_twitter`: https://drive.google.com/file/d/1HGkVfRGPVORGO1qCAEXxGVCjpjPtRKpt/view?usp=sharing "
      ]
    },
    {
      "cell_type": "code",
      "execution_count": null,
      "metadata": {
        "id": "6-Mq1wqjRm-C",
        "colab": {
          "base_uri": "https://localhost:8080/"
        },
        "outputId": "354aebef-f8b9-4bd5-9071-059b05f3ab9c"
      },
      "outputs": [
        {
          "output_type": "execute_result",
          "data": {
            "text/plain": [
              "dict_keys(['tweet', 'reddit', 'combined'])"
            ]
          },
          "metadata": {},
          "execution_count": 42
        }
      ],
      "source": [
        "model_variants = {}\n",
        "\n",
        "for name in [TWEET, REDDIT, COMBINED]:\n",
        "  model = BertRegressor(PRETRAINED_MODEL_NAME, drop_rate=0.2).to(DEVICE)\n",
        "  model.load_state_dict(torch.load(SAVED_MODEL_PATH + name,  map_location=torch.device('cpu')))\n",
        "  model.eval()\n",
        "\n",
        "  model_variants[name] = model\n",
        "\n",
        "model_variants.keys()"
      ]
    },
    {
      "cell_type": "markdown",
      "metadata": {
        "id": "78jPntFQd6eY"
      },
      "source": [
        "### Evaluation Loop"
      ]
    },
    {
      "cell_type": "code",
      "execution_count": null,
      "metadata": {
        "id": "srRkqr5nBk2L"
      },
      "outputs": [],
      "source": [
        "def evaluate(model, dataloader, device):\n",
        "    # Deactivate the model gradients so the model will save time and not learn from the test data\n",
        "    with torch.no_grad():\n",
        "\n",
        "      model.to(device)\n",
        "\n",
        "      model.eval()\n",
        "\n",
        "      predicted_labels = []\n",
        "      true_labels = []\n",
        "      for step, batch in enumerate(tqdm(dataloader)):\n",
        "          batch_inputs, batch_masks, batch_labels = tuple(\n",
        "              batch[field].to(device) for field in batch)\n",
        "\n",
        "          predicted_labels += [p for p in model(batch_inputs, batch_masks)]\n",
        "          true_labels += [l.data.detach().cpu().tolist() for l in batch_labels]\n",
        "          \n",
        "          del batch_inputs, batch_masks, batch_labels\n",
        "        \n",
        "      return predicted_labels, true_labels"
      ]
    },
    {
      "cell_type": "markdown",
      "source": [
        "Evaluate and report on accuracy score metrics"
      ],
      "metadata": {
        "id": "ebyj-ZHdo1_d"
      }
    },
    {
      "cell_type": "code",
      "source": [
        "import numpy as np\n",
        "from scipy.stats import pearsonr\n",
        "from scipy.stats import spearmanr\n",
        "from seqeval.metrics import classification_report\n",
        "from tqdm import tqdm \n",
        "\n",
        "def eval_score(train_name, test_name):\n",
        "  test_preds, test_truth = evaluate(model_variants[train_name], dataloaders[test_name]['test'], device=DEVICE)\n",
        "  test_preds = np.squeeze(np.asarray([p.cpu().numpy() for p in test_preds]))\n",
        "  test_truth = np.array(test_truth)\n",
        "\n",
        "  print(\"Trained on:\", train_name)\n",
        "  print(\"Tested on:\", test_name)\n",
        "\n",
        "  print(\"Pearson's R score:\",pearsonr(test_preds, test_truth)[0])\n",
        "  print(\"Spearman's rho score:\", spearmanr(test_preds, test_truth)[0])\n",
        "  print(\"MSE:\", ((test_preds - test_truth) ** 2).mean())\n",
        "  print(\"RMSE:\" ,(np.sqrt ((  (test_preds - test_truth) ** 2).mean())).item())\n",
        "  print(\"MAE:\" ,(np.abs(test_preds - test_truth)).mean().item())"
      ],
      "metadata": {
        "id": "fxvtiDuvnCqQ"
      },
      "execution_count": null,
      "outputs": []
    },
    {
      "cell_type": "markdown",
      "source": [
        "Evaluate each dataset's test split on the same dataset's train split and the other dataset's train split."
      ],
      "metadata": {
        "id": "ZFV1pcNgovRJ"
      }
    },
    {
      "cell_type": "code",
      "execution_count": null,
      "metadata": {
        "id": "FKb9nIL4Bk2R",
        "colab": {
          "base_uri": "https://localhost:8080/"
        },
        "outputId": "6520cbbe-6568-4419-c963-ca69bcdd18e1"
      },
      "outputs": [
        {
          "output_type": "stream",
          "name": "stderr",
          "text": [
            "100%|██████████| 60/60 [00:01<00:00, 35.85it/s]\n"
          ]
        },
        {
          "output_type": "stream",
          "name": "stdout",
          "text": [
            "Trained on: tweet\n",
            "Tested on: tweet\n",
            "Pearson's R score: 0.411311820711953\n",
            "Spearman's rho score: 0.41649860881298423\n",
            "MSE: 0.6930091447221808\n",
            "RMSE: 0.8324717080611093\n",
            "MAE: 0.6707561052511314\n"
          ]
        },
        {
          "output_type": "stream",
          "name": "stderr",
          "text": [
            "100%|██████████| 12/12 [00:00<00:00, 35.60it/s]\n"
          ]
        },
        {
          "output_type": "stream",
          "name": "stdout",
          "text": [
            "Trained on: tweet\n",
            "Tested on: reddit\n",
            "Pearson's R score: 0.09862725460234084\n",
            "Spearman's rho score: 0.11583340537767942\n",
            "MSE: 1.2137932525932875\n",
            "RMSE: 1.101722856526671\n",
            "MAE: 0.940838775369856\n"
          ]
        },
        {
          "output_type": "stream",
          "name": "stderr",
          "text": [
            "100%|██████████| 71/71 [00:01<00:00, 36.15it/s]\n"
          ]
        },
        {
          "output_type": "stream",
          "name": "stdout",
          "text": [
            "Trained on: tweet\n",
            "Tested on: combined\n",
            "Pearson's R score: 0.3626081909590876\n",
            "Spearman's rho score: 0.3741215468928964\n",
            "MSE: 0.776039379982988\n",
            "RMSE: 0.8809309734496727\n",
            "MAE: 0.7138162284323977\n"
          ]
        },
        {
          "output_type": "stream",
          "name": "stderr",
          "text": [
            "100%|██████████| 60/60 [00:01<00:00, 36.77it/s]\n"
          ]
        },
        {
          "output_type": "stream",
          "name": "stdout",
          "text": [
            "Trained on: reddit\n",
            "Tested on: tweet\n",
            "Pearson's R score: 0.05499370440566277\n",
            "Spearman's rho score: 0.06614261531229043\n",
            "MSE: 1.4888117813939277\n",
            "RMSE: 1.2201687511954762\n",
            "MAE: 1.052120759565034\n"
          ]
        },
        {
          "output_type": "stream",
          "name": "stderr",
          "text": [
            "100%|██████████| 12/12 [00:00<00:00, 35.35it/s]\n"
          ]
        },
        {
          "output_type": "stream",
          "name": "stdout",
          "text": [
            "Trained on: reddit\n",
            "Tested on: reddit\n",
            "Pearson's R score: 0.37602106094524645\n",
            "Spearman's rho score: 0.4876856062648395\n",
            "MSE: 0.39692546627507463\n",
            "RMSE: 0.6300202110052301\n",
            "MAE: 0.4903308795558082\n"
          ]
        },
        {
          "output_type": "stream",
          "name": "stderr",
          "text": [
            "100%|██████████| 71/71 [00:01<00:00, 35.98it/s]\n"
          ]
        },
        {
          "output_type": "stream",
          "name": "stdout",
          "text": [
            "Trained on: reddit\n",
            "Tested on: combined\n",
            "Pearson's R score: 0.22822423771998795\n",
            "Spearman's rho score: 0.2246083860163009\n",
            "MSE: 1.314728935622795\n",
            "RMSE: 1.146616298341688\n",
            "MAE: 0.9625528439470262\n"
          ]
        },
        {
          "output_type": "stream",
          "name": "stderr",
          "text": [
            "100%|██████████| 60/60 [00:01<00:00, 36.61it/s]\n"
          ]
        },
        {
          "output_type": "stream",
          "name": "stdout",
          "text": [
            "Trained on: combined\n",
            "Tested on: tweet\n",
            "Pearson's R score: 0.4039015919850601\n",
            "Spearman's rho score: 0.40402879642405504\n",
            "MSE: 0.6975845381288116\n",
            "RMSE: 0.8352152645449026\n",
            "MAE: 0.6677959994094013\n"
          ]
        },
        {
          "output_type": "stream",
          "name": "stderr",
          "text": [
            "100%|██████████| 12/12 [00:00<00:00, 35.38it/s]\n"
          ]
        },
        {
          "output_type": "stream",
          "name": "stdout",
          "text": [
            "Trained on: combined\n",
            "Tested on: reddit\n",
            "Pearson's R score: 0.5196974612221891\n",
            "Spearman's rho score: 0.49566832676315536\n",
            "MSE: 0.32795241839748696\n",
            "RMSE: 0.5726713004835208\n",
            "MAE: 0.4409057378768921\n"
          ]
        },
        {
          "output_type": "stream",
          "name": "stderr",
          "text": [
            "100%|██████████| 71/71 [00:01<00:00, 36.16it/s]\n"
          ]
        },
        {
          "output_type": "stream",
          "name": "stdout",
          "text": [
            "Trained on: combined\n",
            "Tested on: combined\n",
            "Pearson's R score: 0.5271040282813751\n",
            "Spearman's rho score: 0.522810385861062\n",
            "MSE: 0.6386529354191911\n",
            "RMSE: 0.7991576411567314\n",
            "MAE: 0.6316221765546909\n"
          ]
        }
      ],
      "source": [
        "eval_score(TWEET, TWEET)\n",
        "eval_score(TWEET, REDDIT)\n",
        "eval_score(TWEET, COMBINED)\n",
        "eval_score(REDDIT, TWEET)\n",
        "eval_score(REDDIT, REDDIT)\n",
        "eval_score(REDDIT, COMBINED)\n",
        "eval_score(COMBINED, TWEET)\n",
        "eval_score(COMBINED, REDDIT)\n",
        "eval_score(COMBINED, COMBINED)"
      ]
    },
    {
      "cell_type": "markdown",
      "metadata": {
        "id": "KQKXVas1LzW_"
      },
      "source": [
        "## Base Line"
      ]
    },
    {
      "cell_type": "markdown",
      "metadata": {
        "id": "Djjtifb61X6h"
      },
      "source": [
        "Baseline models to test:\n",
        "1. BERT (Devlin et al., 2018): multilingual\n",
        "BERT model.\n",
        "2. XLM-R (Conneau et al., 2019): multilingual\n",
        "RoBERTa model.\n",
        "3. XLM-T (Barbieri et al., 2021): Multilingual\n",
        "RoBERTa model trained over 200M tweets.\n",
        "4. DistillBERT (Sanh et al., 2019): Multilingual\n",
        "distilled BERT model.\n",
        "5. MiniLM (Wang et al., 2020): Multilingual\n",
        "MiniLM model.\n",
        "\n",
        "(Liu et al., 2019) found that XLM-T achieved the best performance over 7 languages, suggesting that domain specific language model training is beneficial for our tweet intimacy analysis task\n",
        "(Liu et al., 2019) found that for zero-shot tasks, models has varying performances for different languages: The zero-shot performance is generally lower compared with the tasks with in-domain training. This suggests that the zero-shot task is challenging. We should explore different strategies to improve the zero-shot intimacy prediction performance.\n",
        "\n",
        "The baseline testing was performed in a separate notebook, available at\n",
        "https://github.com/aishafarooque/Tweet-Intimacy-Analysis/blob/main/Baseline_BERT_Regression.ipynb\n"
      ]
    },
    {
      "cell_type": "markdown",
      "metadata": {
        "id": "JmHosmNwkvQt"
      },
      "source": [
        "## State of the Art\n",
        "State of the art model should be regarded as XLM-T mode : Multilingual RoBERTa model trained over 200M tweets. Although this model in particular perfromed poorly on languages; Chinese, Hindi, Dutch, Korean,"
      ]
    }
  ],
  "metadata": {
    "accelerator": "GPU",
    "colab": {
      "collapsed_sections": [
        "JmHosmNwkvQt"
      ],
      "provenance": [],
      "machine_shape": "hm",
      "gpuType": "A100"
    },
    "gpuClass": "standard",
    "kernelspec": {
      "display_name": "Python 3",
      "name": "python3"
    },
    "language_info": {
      "name": "python"
    },
    "widgets": {
      "application/vnd.jupyter.widget-state+json": {
        "3b7aef39b3da4be3b09a0cd23eacc7c2": {
          "model_module": "@jupyter-widgets/controls",
          "model_name": "HBoxModel",
          "model_module_version": "1.5.0",
          "state": {
            "_dom_classes": [],
            "_model_module": "@jupyter-widgets/controls",
            "_model_module_version": "1.5.0",
            "_model_name": "HBoxModel",
            "_view_count": null,
            "_view_module": "@jupyter-widgets/controls",
            "_view_module_version": "1.5.0",
            "_view_name": "HBoxView",
            "box_style": "",
            "children": [
              "IPY_MODEL_5f34d12cb43b4b57aad4a7e323d04493",
              "IPY_MODEL_c93a1e845cdd4ab789b2680343455fe7",
              "IPY_MODEL_c414fe40bff94d0aa7fd7948f8b7d709"
            ],
            "layout": "IPY_MODEL_8945c9efecd24e818c1b52a641ac94e1"
          }
        },
        "5f34d12cb43b4b57aad4a7e323d04493": {
          "model_module": "@jupyter-widgets/controls",
          "model_name": "HTMLModel",
          "model_module_version": "1.5.0",
          "state": {
            "_dom_classes": [],
            "_model_module": "@jupyter-widgets/controls",
            "_model_module_version": "1.5.0",
            "_model_name": "HTMLModel",
            "_view_count": null,
            "_view_module": "@jupyter-widgets/controls",
            "_view_module_version": "1.5.0",
            "_view_name": "HTMLView",
            "description": "",
            "description_tooltip": null,
            "layout": "IPY_MODEL_4411dcf9924e4667975a998641a04f74",
            "placeholder": "​",
            "style": "IPY_MODEL_498d7f5b4650495ea089d4d46ef8cdb9",
            "value": "Downloading (…)okenizer_config.json: 100%"
          }
        },
        "c93a1e845cdd4ab789b2680343455fe7": {
          "model_module": "@jupyter-widgets/controls",
          "model_name": "FloatProgressModel",
          "model_module_version": "1.5.0",
          "state": {
            "_dom_classes": [],
            "_model_module": "@jupyter-widgets/controls",
            "_model_module_version": "1.5.0",
            "_model_name": "FloatProgressModel",
            "_view_count": null,
            "_view_module": "@jupyter-widgets/controls",
            "_view_module_version": "1.5.0",
            "_view_name": "ProgressView",
            "bar_style": "success",
            "description": "",
            "description_tooltip": null,
            "layout": "IPY_MODEL_406d122beece4e24b26b59278c35fa4d",
            "max": 28,
            "min": 0,
            "orientation": "horizontal",
            "style": "IPY_MODEL_2ccb39ec087b4844b1fc55fd9f0df7bc",
            "value": 28
          }
        },
        "c414fe40bff94d0aa7fd7948f8b7d709": {
          "model_module": "@jupyter-widgets/controls",
          "model_name": "HTMLModel",
          "model_module_version": "1.5.0",
          "state": {
            "_dom_classes": [],
            "_model_module": "@jupyter-widgets/controls",
            "_model_module_version": "1.5.0",
            "_model_name": "HTMLModel",
            "_view_count": null,
            "_view_module": "@jupyter-widgets/controls",
            "_view_module_version": "1.5.0",
            "_view_name": "HTMLView",
            "description": "",
            "description_tooltip": null,
            "layout": "IPY_MODEL_de116bf08b5d498b8770c7faadcc256f",
            "placeholder": "​",
            "style": "IPY_MODEL_22044ad7224d45238a662ba119153e75",
            "value": " 28.0/28.0 [00:00&lt;00:00, 2.47kB/s]"
          }
        },
        "8945c9efecd24e818c1b52a641ac94e1": {
          "model_module": "@jupyter-widgets/base",
          "model_name": "LayoutModel",
          "model_module_version": "1.2.0",
          "state": {
            "_model_module": "@jupyter-widgets/base",
            "_model_module_version": "1.2.0",
            "_model_name": "LayoutModel",
            "_view_count": null,
            "_view_module": "@jupyter-widgets/base",
            "_view_module_version": "1.2.0",
            "_view_name": "LayoutView",
            "align_content": null,
            "align_items": null,
            "align_self": null,
            "border": null,
            "bottom": null,
            "display": null,
            "flex": null,
            "flex_flow": null,
            "grid_area": null,
            "grid_auto_columns": null,
            "grid_auto_flow": null,
            "grid_auto_rows": null,
            "grid_column": null,
            "grid_gap": null,
            "grid_row": null,
            "grid_template_areas": null,
            "grid_template_columns": null,
            "grid_template_rows": null,
            "height": null,
            "justify_content": null,
            "justify_items": null,
            "left": null,
            "margin": null,
            "max_height": null,
            "max_width": null,
            "min_height": null,
            "min_width": null,
            "object_fit": null,
            "object_position": null,
            "order": null,
            "overflow": null,
            "overflow_x": null,
            "overflow_y": null,
            "padding": null,
            "right": null,
            "top": null,
            "visibility": null,
            "width": null
          }
        },
        "4411dcf9924e4667975a998641a04f74": {
          "model_module": "@jupyter-widgets/base",
          "model_name": "LayoutModel",
          "model_module_version": "1.2.0",
          "state": {
            "_model_module": "@jupyter-widgets/base",
            "_model_module_version": "1.2.0",
            "_model_name": "LayoutModel",
            "_view_count": null,
            "_view_module": "@jupyter-widgets/base",
            "_view_module_version": "1.2.0",
            "_view_name": "LayoutView",
            "align_content": null,
            "align_items": null,
            "align_self": null,
            "border": null,
            "bottom": null,
            "display": null,
            "flex": null,
            "flex_flow": null,
            "grid_area": null,
            "grid_auto_columns": null,
            "grid_auto_flow": null,
            "grid_auto_rows": null,
            "grid_column": null,
            "grid_gap": null,
            "grid_row": null,
            "grid_template_areas": null,
            "grid_template_columns": null,
            "grid_template_rows": null,
            "height": null,
            "justify_content": null,
            "justify_items": null,
            "left": null,
            "margin": null,
            "max_height": null,
            "max_width": null,
            "min_height": null,
            "min_width": null,
            "object_fit": null,
            "object_position": null,
            "order": null,
            "overflow": null,
            "overflow_x": null,
            "overflow_y": null,
            "padding": null,
            "right": null,
            "top": null,
            "visibility": null,
            "width": null
          }
        },
        "498d7f5b4650495ea089d4d46ef8cdb9": {
          "model_module": "@jupyter-widgets/controls",
          "model_name": "DescriptionStyleModel",
          "model_module_version": "1.5.0",
          "state": {
            "_model_module": "@jupyter-widgets/controls",
            "_model_module_version": "1.5.0",
            "_model_name": "DescriptionStyleModel",
            "_view_count": null,
            "_view_module": "@jupyter-widgets/base",
            "_view_module_version": "1.2.0",
            "_view_name": "StyleView",
            "description_width": ""
          }
        },
        "406d122beece4e24b26b59278c35fa4d": {
          "model_module": "@jupyter-widgets/base",
          "model_name": "LayoutModel",
          "model_module_version": "1.2.0",
          "state": {
            "_model_module": "@jupyter-widgets/base",
            "_model_module_version": "1.2.0",
            "_model_name": "LayoutModel",
            "_view_count": null,
            "_view_module": "@jupyter-widgets/base",
            "_view_module_version": "1.2.0",
            "_view_name": "LayoutView",
            "align_content": null,
            "align_items": null,
            "align_self": null,
            "border": null,
            "bottom": null,
            "display": null,
            "flex": null,
            "flex_flow": null,
            "grid_area": null,
            "grid_auto_columns": null,
            "grid_auto_flow": null,
            "grid_auto_rows": null,
            "grid_column": null,
            "grid_gap": null,
            "grid_row": null,
            "grid_template_areas": null,
            "grid_template_columns": null,
            "grid_template_rows": null,
            "height": null,
            "justify_content": null,
            "justify_items": null,
            "left": null,
            "margin": null,
            "max_height": null,
            "max_width": null,
            "min_height": null,
            "min_width": null,
            "object_fit": null,
            "object_position": null,
            "order": null,
            "overflow": null,
            "overflow_x": null,
            "overflow_y": null,
            "padding": null,
            "right": null,
            "top": null,
            "visibility": null,
            "width": null
          }
        },
        "2ccb39ec087b4844b1fc55fd9f0df7bc": {
          "model_module": "@jupyter-widgets/controls",
          "model_name": "ProgressStyleModel",
          "model_module_version": "1.5.0",
          "state": {
            "_model_module": "@jupyter-widgets/controls",
            "_model_module_version": "1.5.0",
            "_model_name": "ProgressStyleModel",
            "_view_count": null,
            "_view_module": "@jupyter-widgets/base",
            "_view_module_version": "1.2.0",
            "_view_name": "StyleView",
            "bar_color": null,
            "description_width": ""
          }
        },
        "de116bf08b5d498b8770c7faadcc256f": {
          "model_module": "@jupyter-widgets/base",
          "model_name": "LayoutModel",
          "model_module_version": "1.2.0",
          "state": {
            "_model_module": "@jupyter-widgets/base",
            "_model_module_version": "1.2.0",
            "_model_name": "LayoutModel",
            "_view_count": null,
            "_view_module": "@jupyter-widgets/base",
            "_view_module_version": "1.2.0",
            "_view_name": "LayoutView",
            "align_content": null,
            "align_items": null,
            "align_self": null,
            "border": null,
            "bottom": null,
            "display": null,
            "flex": null,
            "flex_flow": null,
            "grid_area": null,
            "grid_auto_columns": null,
            "grid_auto_flow": null,
            "grid_auto_rows": null,
            "grid_column": null,
            "grid_gap": null,
            "grid_row": null,
            "grid_template_areas": null,
            "grid_template_columns": null,
            "grid_template_rows": null,
            "height": null,
            "justify_content": null,
            "justify_items": null,
            "left": null,
            "margin": null,
            "max_height": null,
            "max_width": null,
            "min_height": null,
            "min_width": null,
            "object_fit": null,
            "object_position": null,
            "order": null,
            "overflow": null,
            "overflow_x": null,
            "overflow_y": null,
            "padding": null,
            "right": null,
            "top": null,
            "visibility": null,
            "width": null
          }
        },
        "22044ad7224d45238a662ba119153e75": {
          "model_module": "@jupyter-widgets/controls",
          "model_name": "DescriptionStyleModel",
          "model_module_version": "1.5.0",
          "state": {
            "_model_module": "@jupyter-widgets/controls",
            "_model_module_version": "1.5.0",
            "_model_name": "DescriptionStyleModel",
            "_view_count": null,
            "_view_module": "@jupyter-widgets/base",
            "_view_module_version": "1.2.0",
            "_view_name": "StyleView",
            "description_width": ""
          }
        },
        "bbb3c0fab5da47ed9e0087af9e756d61": {
          "model_module": "@jupyter-widgets/controls",
          "model_name": "HBoxModel",
          "model_module_version": "1.5.0",
          "state": {
            "_dom_classes": [],
            "_model_module": "@jupyter-widgets/controls",
            "_model_module_version": "1.5.0",
            "_model_name": "HBoxModel",
            "_view_count": null,
            "_view_module": "@jupyter-widgets/controls",
            "_view_module_version": "1.5.0",
            "_view_name": "HBoxView",
            "box_style": "",
            "children": [
              "IPY_MODEL_357724f3aca04bff8db916ddb49ed058",
              "IPY_MODEL_3434d20840bf47ed88c6a488791659fc",
              "IPY_MODEL_42ceb582b4dc409e99f3ffcae4f5ead6"
            ],
            "layout": "IPY_MODEL_07e774b1b772491982a17c4141ebc1fe"
          }
        },
        "357724f3aca04bff8db916ddb49ed058": {
          "model_module": "@jupyter-widgets/controls",
          "model_name": "HTMLModel",
          "model_module_version": "1.5.0",
          "state": {
            "_dom_classes": [],
            "_model_module": "@jupyter-widgets/controls",
            "_model_module_version": "1.5.0",
            "_model_name": "HTMLModel",
            "_view_count": null,
            "_view_module": "@jupyter-widgets/controls",
            "_view_module_version": "1.5.0",
            "_view_name": "HTMLView",
            "description": "",
            "description_tooltip": null,
            "layout": "IPY_MODEL_aec4ea26c4464b36bb97113e1d741056",
            "placeholder": "​",
            "style": "IPY_MODEL_5c7f7610733a43ac91688e9b4151c8cd",
            "value": "Downloading (…)lve/main/config.json: 100%"
          }
        },
        "3434d20840bf47ed88c6a488791659fc": {
          "model_module": "@jupyter-widgets/controls",
          "model_name": "FloatProgressModel",
          "model_module_version": "1.5.0",
          "state": {
            "_dom_classes": [],
            "_model_module": "@jupyter-widgets/controls",
            "_model_module_version": "1.5.0",
            "_model_name": "FloatProgressModel",
            "_view_count": null,
            "_view_module": "@jupyter-widgets/controls",
            "_view_module_version": "1.5.0",
            "_view_name": "ProgressView",
            "bar_style": "success",
            "description": "",
            "description_tooltip": null,
            "layout": "IPY_MODEL_d0f10df5a3d34c78b669b18b841c8120",
            "max": 570,
            "min": 0,
            "orientation": "horizontal",
            "style": "IPY_MODEL_88c51a3ef5884934bfdd2b0c6ee0d869",
            "value": 570
          }
        },
        "42ceb582b4dc409e99f3ffcae4f5ead6": {
          "model_module": "@jupyter-widgets/controls",
          "model_name": "HTMLModel",
          "model_module_version": "1.5.0",
          "state": {
            "_dom_classes": [],
            "_model_module": "@jupyter-widgets/controls",
            "_model_module_version": "1.5.0",
            "_model_name": "HTMLModel",
            "_view_count": null,
            "_view_module": "@jupyter-widgets/controls",
            "_view_module_version": "1.5.0",
            "_view_name": "HTMLView",
            "description": "",
            "description_tooltip": null,
            "layout": "IPY_MODEL_dc9bfbc5f644456db0e006883b5aafda",
            "placeholder": "​",
            "style": "IPY_MODEL_5dfc13d9223c452f9951a046f004f2bf",
            "value": " 570/570 [00:00&lt;00:00, 53.9kB/s]"
          }
        },
        "07e774b1b772491982a17c4141ebc1fe": {
          "model_module": "@jupyter-widgets/base",
          "model_name": "LayoutModel",
          "model_module_version": "1.2.0",
          "state": {
            "_model_module": "@jupyter-widgets/base",
            "_model_module_version": "1.2.0",
            "_model_name": "LayoutModel",
            "_view_count": null,
            "_view_module": "@jupyter-widgets/base",
            "_view_module_version": "1.2.0",
            "_view_name": "LayoutView",
            "align_content": null,
            "align_items": null,
            "align_self": null,
            "border": null,
            "bottom": null,
            "display": null,
            "flex": null,
            "flex_flow": null,
            "grid_area": null,
            "grid_auto_columns": null,
            "grid_auto_flow": null,
            "grid_auto_rows": null,
            "grid_column": null,
            "grid_gap": null,
            "grid_row": null,
            "grid_template_areas": null,
            "grid_template_columns": null,
            "grid_template_rows": null,
            "height": null,
            "justify_content": null,
            "justify_items": null,
            "left": null,
            "margin": null,
            "max_height": null,
            "max_width": null,
            "min_height": null,
            "min_width": null,
            "object_fit": null,
            "object_position": null,
            "order": null,
            "overflow": null,
            "overflow_x": null,
            "overflow_y": null,
            "padding": null,
            "right": null,
            "top": null,
            "visibility": null,
            "width": null
          }
        },
        "aec4ea26c4464b36bb97113e1d741056": {
          "model_module": "@jupyter-widgets/base",
          "model_name": "LayoutModel",
          "model_module_version": "1.2.0",
          "state": {
            "_model_module": "@jupyter-widgets/base",
            "_model_module_version": "1.2.0",
            "_model_name": "LayoutModel",
            "_view_count": null,
            "_view_module": "@jupyter-widgets/base",
            "_view_module_version": "1.2.0",
            "_view_name": "LayoutView",
            "align_content": null,
            "align_items": null,
            "align_self": null,
            "border": null,
            "bottom": null,
            "display": null,
            "flex": null,
            "flex_flow": null,
            "grid_area": null,
            "grid_auto_columns": null,
            "grid_auto_flow": null,
            "grid_auto_rows": null,
            "grid_column": null,
            "grid_gap": null,
            "grid_row": null,
            "grid_template_areas": null,
            "grid_template_columns": null,
            "grid_template_rows": null,
            "height": null,
            "justify_content": null,
            "justify_items": null,
            "left": null,
            "margin": null,
            "max_height": null,
            "max_width": null,
            "min_height": null,
            "min_width": null,
            "object_fit": null,
            "object_position": null,
            "order": null,
            "overflow": null,
            "overflow_x": null,
            "overflow_y": null,
            "padding": null,
            "right": null,
            "top": null,
            "visibility": null,
            "width": null
          }
        },
        "5c7f7610733a43ac91688e9b4151c8cd": {
          "model_module": "@jupyter-widgets/controls",
          "model_name": "DescriptionStyleModel",
          "model_module_version": "1.5.0",
          "state": {
            "_model_module": "@jupyter-widgets/controls",
            "_model_module_version": "1.5.0",
            "_model_name": "DescriptionStyleModel",
            "_view_count": null,
            "_view_module": "@jupyter-widgets/base",
            "_view_module_version": "1.2.0",
            "_view_name": "StyleView",
            "description_width": ""
          }
        },
        "d0f10df5a3d34c78b669b18b841c8120": {
          "model_module": "@jupyter-widgets/base",
          "model_name": "LayoutModel",
          "model_module_version": "1.2.0",
          "state": {
            "_model_module": "@jupyter-widgets/base",
            "_model_module_version": "1.2.0",
            "_model_name": "LayoutModel",
            "_view_count": null,
            "_view_module": "@jupyter-widgets/base",
            "_view_module_version": "1.2.0",
            "_view_name": "LayoutView",
            "align_content": null,
            "align_items": null,
            "align_self": null,
            "border": null,
            "bottom": null,
            "display": null,
            "flex": null,
            "flex_flow": null,
            "grid_area": null,
            "grid_auto_columns": null,
            "grid_auto_flow": null,
            "grid_auto_rows": null,
            "grid_column": null,
            "grid_gap": null,
            "grid_row": null,
            "grid_template_areas": null,
            "grid_template_columns": null,
            "grid_template_rows": null,
            "height": null,
            "justify_content": null,
            "justify_items": null,
            "left": null,
            "margin": null,
            "max_height": null,
            "max_width": null,
            "min_height": null,
            "min_width": null,
            "object_fit": null,
            "object_position": null,
            "order": null,
            "overflow": null,
            "overflow_x": null,
            "overflow_y": null,
            "padding": null,
            "right": null,
            "top": null,
            "visibility": null,
            "width": null
          }
        },
        "88c51a3ef5884934bfdd2b0c6ee0d869": {
          "model_module": "@jupyter-widgets/controls",
          "model_name": "ProgressStyleModel",
          "model_module_version": "1.5.0",
          "state": {
            "_model_module": "@jupyter-widgets/controls",
            "_model_module_version": "1.5.0",
            "_model_name": "ProgressStyleModel",
            "_view_count": null,
            "_view_module": "@jupyter-widgets/base",
            "_view_module_version": "1.2.0",
            "_view_name": "StyleView",
            "bar_color": null,
            "description_width": ""
          }
        },
        "dc9bfbc5f644456db0e006883b5aafda": {
          "model_module": "@jupyter-widgets/base",
          "model_name": "LayoutModel",
          "model_module_version": "1.2.0",
          "state": {
            "_model_module": "@jupyter-widgets/base",
            "_model_module_version": "1.2.0",
            "_model_name": "LayoutModel",
            "_view_count": null,
            "_view_module": "@jupyter-widgets/base",
            "_view_module_version": "1.2.0",
            "_view_name": "LayoutView",
            "align_content": null,
            "align_items": null,
            "align_self": null,
            "border": null,
            "bottom": null,
            "display": null,
            "flex": null,
            "flex_flow": null,
            "grid_area": null,
            "grid_auto_columns": null,
            "grid_auto_flow": null,
            "grid_auto_rows": null,
            "grid_column": null,
            "grid_gap": null,
            "grid_row": null,
            "grid_template_areas": null,
            "grid_template_columns": null,
            "grid_template_rows": null,
            "height": null,
            "justify_content": null,
            "justify_items": null,
            "left": null,
            "margin": null,
            "max_height": null,
            "max_width": null,
            "min_height": null,
            "min_width": null,
            "object_fit": null,
            "object_position": null,
            "order": null,
            "overflow": null,
            "overflow_x": null,
            "overflow_y": null,
            "padding": null,
            "right": null,
            "top": null,
            "visibility": null,
            "width": null
          }
        },
        "5dfc13d9223c452f9951a046f004f2bf": {
          "model_module": "@jupyter-widgets/controls",
          "model_name": "DescriptionStyleModel",
          "model_module_version": "1.5.0",
          "state": {
            "_model_module": "@jupyter-widgets/controls",
            "_model_module_version": "1.5.0",
            "_model_name": "DescriptionStyleModel",
            "_view_count": null,
            "_view_module": "@jupyter-widgets/base",
            "_view_module_version": "1.2.0",
            "_view_name": "StyleView",
            "description_width": ""
          }
        },
        "b41c966c6ce1451f827567b5bf861dfc": {
          "model_module": "@jupyter-widgets/controls",
          "model_name": "HBoxModel",
          "model_module_version": "1.5.0",
          "state": {
            "_dom_classes": [],
            "_model_module": "@jupyter-widgets/controls",
            "_model_module_version": "1.5.0",
            "_model_name": "HBoxModel",
            "_view_count": null,
            "_view_module": "@jupyter-widgets/controls",
            "_view_module_version": "1.5.0",
            "_view_name": "HBoxView",
            "box_style": "",
            "children": [
              "IPY_MODEL_1d362979b4364d1a8635d6ceb2a87f48",
              "IPY_MODEL_309555fe8f2a442a8a608261d1a8ead8",
              "IPY_MODEL_001677f689e8430abfde1bdacb102b67"
            ],
            "layout": "IPY_MODEL_95e0db34c12f4c48bc7b2fc9eaa73bb1"
          }
        },
        "1d362979b4364d1a8635d6ceb2a87f48": {
          "model_module": "@jupyter-widgets/controls",
          "model_name": "HTMLModel",
          "model_module_version": "1.5.0",
          "state": {
            "_dom_classes": [],
            "_model_module": "@jupyter-widgets/controls",
            "_model_module_version": "1.5.0",
            "_model_name": "HTMLModel",
            "_view_count": null,
            "_view_module": "@jupyter-widgets/controls",
            "_view_module_version": "1.5.0",
            "_view_name": "HTMLView",
            "description": "",
            "description_tooltip": null,
            "layout": "IPY_MODEL_688c2e0326844f57a35c68e44d385afd",
            "placeholder": "​",
            "style": "IPY_MODEL_fea1125b49d14117a6894b90b7f09abf",
            "value": "Downloading (…)solve/main/vocab.txt: 100%"
          }
        },
        "309555fe8f2a442a8a608261d1a8ead8": {
          "model_module": "@jupyter-widgets/controls",
          "model_name": "FloatProgressModel",
          "model_module_version": "1.5.0",
          "state": {
            "_dom_classes": [],
            "_model_module": "@jupyter-widgets/controls",
            "_model_module_version": "1.5.0",
            "_model_name": "FloatProgressModel",
            "_view_count": null,
            "_view_module": "@jupyter-widgets/controls",
            "_view_module_version": "1.5.0",
            "_view_name": "ProgressView",
            "bar_style": "success",
            "description": "",
            "description_tooltip": null,
            "layout": "IPY_MODEL_5b50ad46dd3f4913aaf8ac51ce470bd6",
            "max": 231508,
            "min": 0,
            "orientation": "horizontal",
            "style": "IPY_MODEL_68c56b055a6a469b841a8cc590aa1f88",
            "value": 231508
          }
        },
        "001677f689e8430abfde1bdacb102b67": {
          "model_module": "@jupyter-widgets/controls",
          "model_name": "HTMLModel",
          "model_module_version": "1.5.0",
          "state": {
            "_dom_classes": [],
            "_model_module": "@jupyter-widgets/controls",
            "_model_module_version": "1.5.0",
            "_model_name": "HTMLModel",
            "_view_count": null,
            "_view_module": "@jupyter-widgets/controls",
            "_view_module_version": "1.5.0",
            "_view_name": "HTMLView",
            "description": "",
            "description_tooltip": null,
            "layout": "IPY_MODEL_2154a50b75c94a18bad7eb8fc8359373",
            "placeholder": "​",
            "style": "IPY_MODEL_2757950e0fa84be6bd05adb94521713a",
            "value": " 232k/232k [00:00&lt;00:00, 557kB/s]"
          }
        },
        "95e0db34c12f4c48bc7b2fc9eaa73bb1": {
          "model_module": "@jupyter-widgets/base",
          "model_name": "LayoutModel",
          "model_module_version": "1.2.0",
          "state": {
            "_model_module": "@jupyter-widgets/base",
            "_model_module_version": "1.2.0",
            "_model_name": "LayoutModel",
            "_view_count": null,
            "_view_module": "@jupyter-widgets/base",
            "_view_module_version": "1.2.0",
            "_view_name": "LayoutView",
            "align_content": null,
            "align_items": null,
            "align_self": null,
            "border": null,
            "bottom": null,
            "display": null,
            "flex": null,
            "flex_flow": null,
            "grid_area": null,
            "grid_auto_columns": null,
            "grid_auto_flow": null,
            "grid_auto_rows": null,
            "grid_column": null,
            "grid_gap": null,
            "grid_row": null,
            "grid_template_areas": null,
            "grid_template_columns": null,
            "grid_template_rows": null,
            "height": null,
            "justify_content": null,
            "justify_items": null,
            "left": null,
            "margin": null,
            "max_height": null,
            "max_width": null,
            "min_height": null,
            "min_width": null,
            "object_fit": null,
            "object_position": null,
            "order": null,
            "overflow": null,
            "overflow_x": null,
            "overflow_y": null,
            "padding": null,
            "right": null,
            "top": null,
            "visibility": null,
            "width": null
          }
        },
        "688c2e0326844f57a35c68e44d385afd": {
          "model_module": "@jupyter-widgets/base",
          "model_name": "LayoutModel",
          "model_module_version": "1.2.0",
          "state": {
            "_model_module": "@jupyter-widgets/base",
            "_model_module_version": "1.2.0",
            "_model_name": "LayoutModel",
            "_view_count": null,
            "_view_module": "@jupyter-widgets/base",
            "_view_module_version": "1.2.0",
            "_view_name": "LayoutView",
            "align_content": null,
            "align_items": null,
            "align_self": null,
            "border": null,
            "bottom": null,
            "display": null,
            "flex": null,
            "flex_flow": null,
            "grid_area": null,
            "grid_auto_columns": null,
            "grid_auto_flow": null,
            "grid_auto_rows": null,
            "grid_column": null,
            "grid_gap": null,
            "grid_row": null,
            "grid_template_areas": null,
            "grid_template_columns": null,
            "grid_template_rows": null,
            "height": null,
            "justify_content": null,
            "justify_items": null,
            "left": null,
            "margin": null,
            "max_height": null,
            "max_width": null,
            "min_height": null,
            "min_width": null,
            "object_fit": null,
            "object_position": null,
            "order": null,
            "overflow": null,
            "overflow_x": null,
            "overflow_y": null,
            "padding": null,
            "right": null,
            "top": null,
            "visibility": null,
            "width": null
          }
        },
        "fea1125b49d14117a6894b90b7f09abf": {
          "model_module": "@jupyter-widgets/controls",
          "model_name": "DescriptionStyleModel",
          "model_module_version": "1.5.0",
          "state": {
            "_model_module": "@jupyter-widgets/controls",
            "_model_module_version": "1.5.0",
            "_model_name": "DescriptionStyleModel",
            "_view_count": null,
            "_view_module": "@jupyter-widgets/base",
            "_view_module_version": "1.2.0",
            "_view_name": "StyleView",
            "description_width": ""
          }
        },
        "5b50ad46dd3f4913aaf8ac51ce470bd6": {
          "model_module": "@jupyter-widgets/base",
          "model_name": "LayoutModel",
          "model_module_version": "1.2.0",
          "state": {
            "_model_module": "@jupyter-widgets/base",
            "_model_module_version": "1.2.0",
            "_model_name": "LayoutModel",
            "_view_count": null,
            "_view_module": "@jupyter-widgets/base",
            "_view_module_version": "1.2.0",
            "_view_name": "LayoutView",
            "align_content": null,
            "align_items": null,
            "align_self": null,
            "border": null,
            "bottom": null,
            "display": null,
            "flex": null,
            "flex_flow": null,
            "grid_area": null,
            "grid_auto_columns": null,
            "grid_auto_flow": null,
            "grid_auto_rows": null,
            "grid_column": null,
            "grid_gap": null,
            "grid_row": null,
            "grid_template_areas": null,
            "grid_template_columns": null,
            "grid_template_rows": null,
            "height": null,
            "justify_content": null,
            "justify_items": null,
            "left": null,
            "margin": null,
            "max_height": null,
            "max_width": null,
            "min_height": null,
            "min_width": null,
            "object_fit": null,
            "object_position": null,
            "order": null,
            "overflow": null,
            "overflow_x": null,
            "overflow_y": null,
            "padding": null,
            "right": null,
            "top": null,
            "visibility": null,
            "width": null
          }
        },
        "68c56b055a6a469b841a8cc590aa1f88": {
          "model_module": "@jupyter-widgets/controls",
          "model_name": "ProgressStyleModel",
          "model_module_version": "1.5.0",
          "state": {
            "_model_module": "@jupyter-widgets/controls",
            "_model_module_version": "1.5.0",
            "_model_name": "ProgressStyleModel",
            "_view_count": null,
            "_view_module": "@jupyter-widgets/base",
            "_view_module_version": "1.2.0",
            "_view_name": "StyleView",
            "bar_color": null,
            "description_width": ""
          }
        },
        "2154a50b75c94a18bad7eb8fc8359373": {
          "model_module": "@jupyter-widgets/base",
          "model_name": "LayoutModel",
          "model_module_version": "1.2.0",
          "state": {
            "_model_module": "@jupyter-widgets/base",
            "_model_module_version": "1.2.0",
            "_model_name": "LayoutModel",
            "_view_count": null,
            "_view_module": "@jupyter-widgets/base",
            "_view_module_version": "1.2.0",
            "_view_name": "LayoutView",
            "align_content": null,
            "align_items": null,
            "align_self": null,
            "border": null,
            "bottom": null,
            "display": null,
            "flex": null,
            "flex_flow": null,
            "grid_area": null,
            "grid_auto_columns": null,
            "grid_auto_flow": null,
            "grid_auto_rows": null,
            "grid_column": null,
            "grid_gap": null,
            "grid_row": null,
            "grid_template_areas": null,
            "grid_template_columns": null,
            "grid_template_rows": null,
            "height": null,
            "justify_content": null,
            "justify_items": null,
            "left": null,
            "margin": null,
            "max_height": null,
            "max_width": null,
            "min_height": null,
            "min_width": null,
            "object_fit": null,
            "object_position": null,
            "order": null,
            "overflow": null,
            "overflow_x": null,
            "overflow_y": null,
            "padding": null,
            "right": null,
            "top": null,
            "visibility": null,
            "width": null
          }
        },
        "2757950e0fa84be6bd05adb94521713a": {
          "model_module": "@jupyter-widgets/controls",
          "model_name": "DescriptionStyleModel",
          "model_module_version": "1.5.0",
          "state": {
            "_model_module": "@jupyter-widgets/controls",
            "_model_module_version": "1.5.0",
            "_model_name": "DescriptionStyleModel",
            "_view_count": null,
            "_view_module": "@jupyter-widgets/base",
            "_view_module_version": "1.2.0",
            "_view_name": "StyleView",
            "description_width": ""
          }
        },
        "932c2157095e444584347dbc544bc0d2": {
          "model_module": "@jupyter-widgets/controls",
          "model_name": "HBoxModel",
          "model_module_version": "1.5.0",
          "state": {
            "_dom_classes": [],
            "_model_module": "@jupyter-widgets/controls",
            "_model_module_version": "1.5.0",
            "_model_name": "HBoxModel",
            "_view_count": null,
            "_view_module": "@jupyter-widgets/controls",
            "_view_module_version": "1.5.0",
            "_view_name": "HBoxView",
            "box_style": "",
            "children": [
              "IPY_MODEL_62948000fb314fab9b2ed5ab54acca39",
              "IPY_MODEL_27ee50f26022459d8ce2cde494450fcf",
              "IPY_MODEL_d59ce70b87c64d1682ae02aca279fece"
            ],
            "layout": "IPY_MODEL_c8685117b1144984b6252cca81a455eb"
          }
        },
        "62948000fb314fab9b2ed5ab54acca39": {
          "model_module": "@jupyter-widgets/controls",
          "model_name": "HTMLModel",
          "model_module_version": "1.5.0",
          "state": {
            "_dom_classes": [],
            "_model_module": "@jupyter-widgets/controls",
            "_model_module_version": "1.5.0",
            "_model_name": "HTMLModel",
            "_view_count": null,
            "_view_module": "@jupyter-widgets/controls",
            "_view_module_version": "1.5.0",
            "_view_name": "HTMLView",
            "description": "",
            "description_tooltip": null,
            "layout": "IPY_MODEL_6419ca8a868a4588b09876442310e583",
            "placeholder": "​",
            "style": "IPY_MODEL_ab217d1f84704d94989bd4dea7119e71",
            "value": "Downloading (…)/main/tokenizer.json: 100%"
          }
        },
        "27ee50f26022459d8ce2cde494450fcf": {
          "model_module": "@jupyter-widgets/controls",
          "model_name": "FloatProgressModel",
          "model_module_version": "1.5.0",
          "state": {
            "_dom_classes": [],
            "_model_module": "@jupyter-widgets/controls",
            "_model_module_version": "1.5.0",
            "_model_name": "FloatProgressModel",
            "_view_count": null,
            "_view_module": "@jupyter-widgets/controls",
            "_view_module_version": "1.5.0",
            "_view_name": "ProgressView",
            "bar_style": "success",
            "description": "",
            "description_tooltip": null,
            "layout": "IPY_MODEL_c5d1165ccced431dbf69caae72efe63a",
            "max": 466062,
            "min": 0,
            "orientation": "horizontal",
            "style": "IPY_MODEL_8e53bcf909404af0b5de045f6696f0ba",
            "value": 466062
          }
        },
        "d59ce70b87c64d1682ae02aca279fece": {
          "model_module": "@jupyter-widgets/controls",
          "model_name": "HTMLModel",
          "model_module_version": "1.5.0",
          "state": {
            "_dom_classes": [],
            "_model_module": "@jupyter-widgets/controls",
            "_model_module_version": "1.5.0",
            "_model_name": "HTMLModel",
            "_view_count": null,
            "_view_module": "@jupyter-widgets/controls",
            "_view_module_version": "1.5.0",
            "_view_name": "HTMLView",
            "description": "",
            "description_tooltip": null,
            "layout": "IPY_MODEL_9ae8c8caf634461e95e6edc3e935b654",
            "placeholder": "​",
            "style": "IPY_MODEL_bfa394dd3da543c388bf8d142ae4013a",
            "value": " 466k/466k [00:00&lt;00:00, 1.11MB/s]"
          }
        },
        "c8685117b1144984b6252cca81a455eb": {
          "model_module": "@jupyter-widgets/base",
          "model_name": "LayoutModel",
          "model_module_version": "1.2.0",
          "state": {
            "_model_module": "@jupyter-widgets/base",
            "_model_module_version": "1.2.0",
            "_model_name": "LayoutModel",
            "_view_count": null,
            "_view_module": "@jupyter-widgets/base",
            "_view_module_version": "1.2.0",
            "_view_name": "LayoutView",
            "align_content": null,
            "align_items": null,
            "align_self": null,
            "border": null,
            "bottom": null,
            "display": null,
            "flex": null,
            "flex_flow": null,
            "grid_area": null,
            "grid_auto_columns": null,
            "grid_auto_flow": null,
            "grid_auto_rows": null,
            "grid_column": null,
            "grid_gap": null,
            "grid_row": null,
            "grid_template_areas": null,
            "grid_template_columns": null,
            "grid_template_rows": null,
            "height": null,
            "justify_content": null,
            "justify_items": null,
            "left": null,
            "margin": null,
            "max_height": null,
            "max_width": null,
            "min_height": null,
            "min_width": null,
            "object_fit": null,
            "object_position": null,
            "order": null,
            "overflow": null,
            "overflow_x": null,
            "overflow_y": null,
            "padding": null,
            "right": null,
            "top": null,
            "visibility": null,
            "width": null
          }
        },
        "6419ca8a868a4588b09876442310e583": {
          "model_module": "@jupyter-widgets/base",
          "model_name": "LayoutModel",
          "model_module_version": "1.2.0",
          "state": {
            "_model_module": "@jupyter-widgets/base",
            "_model_module_version": "1.2.0",
            "_model_name": "LayoutModel",
            "_view_count": null,
            "_view_module": "@jupyter-widgets/base",
            "_view_module_version": "1.2.0",
            "_view_name": "LayoutView",
            "align_content": null,
            "align_items": null,
            "align_self": null,
            "border": null,
            "bottom": null,
            "display": null,
            "flex": null,
            "flex_flow": null,
            "grid_area": null,
            "grid_auto_columns": null,
            "grid_auto_flow": null,
            "grid_auto_rows": null,
            "grid_column": null,
            "grid_gap": null,
            "grid_row": null,
            "grid_template_areas": null,
            "grid_template_columns": null,
            "grid_template_rows": null,
            "height": null,
            "justify_content": null,
            "justify_items": null,
            "left": null,
            "margin": null,
            "max_height": null,
            "max_width": null,
            "min_height": null,
            "min_width": null,
            "object_fit": null,
            "object_position": null,
            "order": null,
            "overflow": null,
            "overflow_x": null,
            "overflow_y": null,
            "padding": null,
            "right": null,
            "top": null,
            "visibility": null,
            "width": null
          }
        },
        "ab217d1f84704d94989bd4dea7119e71": {
          "model_module": "@jupyter-widgets/controls",
          "model_name": "DescriptionStyleModel",
          "model_module_version": "1.5.0",
          "state": {
            "_model_module": "@jupyter-widgets/controls",
            "_model_module_version": "1.5.0",
            "_model_name": "DescriptionStyleModel",
            "_view_count": null,
            "_view_module": "@jupyter-widgets/base",
            "_view_module_version": "1.2.0",
            "_view_name": "StyleView",
            "description_width": ""
          }
        },
        "c5d1165ccced431dbf69caae72efe63a": {
          "model_module": "@jupyter-widgets/base",
          "model_name": "LayoutModel",
          "model_module_version": "1.2.0",
          "state": {
            "_model_module": "@jupyter-widgets/base",
            "_model_module_version": "1.2.0",
            "_model_name": "LayoutModel",
            "_view_count": null,
            "_view_module": "@jupyter-widgets/base",
            "_view_module_version": "1.2.0",
            "_view_name": "LayoutView",
            "align_content": null,
            "align_items": null,
            "align_self": null,
            "border": null,
            "bottom": null,
            "display": null,
            "flex": null,
            "flex_flow": null,
            "grid_area": null,
            "grid_auto_columns": null,
            "grid_auto_flow": null,
            "grid_auto_rows": null,
            "grid_column": null,
            "grid_gap": null,
            "grid_row": null,
            "grid_template_areas": null,
            "grid_template_columns": null,
            "grid_template_rows": null,
            "height": null,
            "justify_content": null,
            "justify_items": null,
            "left": null,
            "margin": null,
            "max_height": null,
            "max_width": null,
            "min_height": null,
            "min_width": null,
            "object_fit": null,
            "object_position": null,
            "order": null,
            "overflow": null,
            "overflow_x": null,
            "overflow_y": null,
            "padding": null,
            "right": null,
            "top": null,
            "visibility": null,
            "width": null
          }
        },
        "8e53bcf909404af0b5de045f6696f0ba": {
          "model_module": "@jupyter-widgets/controls",
          "model_name": "ProgressStyleModel",
          "model_module_version": "1.5.0",
          "state": {
            "_model_module": "@jupyter-widgets/controls",
            "_model_module_version": "1.5.0",
            "_model_name": "ProgressStyleModel",
            "_view_count": null,
            "_view_module": "@jupyter-widgets/base",
            "_view_module_version": "1.2.0",
            "_view_name": "StyleView",
            "bar_color": null,
            "description_width": ""
          }
        },
        "9ae8c8caf634461e95e6edc3e935b654": {
          "model_module": "@jupyter-widgets/base",
          "model_name": "LayoutModel",
          "model_module_version": "1.2.0",
          "state": {
            "_model_module": "@jupyter-widgets/base",
            "_model_module_version": "1.2.0",
            "_model_name": "LayoutModel",
            "_view_count": null,
            "_view_module": "@jupyter-widgets/base",
            "_view_module_version": "1.2.0",
            "_view_name": "LayoutView",
            "align_content": null,
            "align_items": null,
            "align_self": null,
            "border": null,
            "bottom": null,
            "display": null,
            "flex": null,
            "flex_flow": null,
            "grid_area": null,
            "grid_auto_columns": null,
            "grid_auto_flow": null,
            "grid_auto_rows": null,
            "grid_column": null,
            "grid_gap": null,
            "grid_row": null,
            "grid_template_areas": null,
            "grid_template_columns": null,
            "grid_template_rows": null,
            "height": null,
            "justify_content": null,
            "justify_items": null,
            "left": null,
            "margin": null,
            "max_height": null,
            "max_width": null,
            "min_height": null,
            "min_width": null,
            "object_fit": null,
            "object_position": null,
            "order": null,
            "overflow": null,
            "overflow_x": null,
            "overflow_y": null,
            "padding": null,
            "right": null,
            "top": null,
            "visibility": null,
            "width": null
          }
        },
        "bfa394dd3da543c388bf8d142ae4013a": {
          "model_module": "@jupyter-widgets/controls",
          "model_name": "DescriptionStyleModel",
          "model_module_version": "1.5.0",
          "state": {
            "_model_module": "@jupyter-widgets/controls",
            "_model_module_version": "1.5.0",
            "_model_name": "DescriptionStyleModel",
            "_view_count": null,
            "_view_module": "@jupyter-widgets/base",
            "_view_module_version": "1.2.0",
            "_view_name": "StyleView",
            "description_width": ""
          }
        },
        "18c1feffa5e84b11a31f9dc8a3cf8e1c": {
          "model_module": "@jupyter-widgets/controls",
          "model_name": "HBoxModel",
          "model_module_version": "1.5.0",
          "state": {
            "_dom_classes": [],
            "_model_module": "@jupyter-widgets/controls",
            "_model_module_version": "1.5.0",
            "_model_name": "HBoxModel",
            "_view_count": null,
            "_view_module": "@jupyter-widgets/controls",
            "_view_module_version": "1.5.0",
            "_view_name": "HBoxView",
            "box_style": "",
            "children": [
              "IPY_MODEL_b7d5537a8ea44c59a3324265f1ee238f",
              "IPY_MODEL_86a2b8d02ebc4609bdde6f4cd04a9442",
              "IPY_MODEL_05aeb9ee783d4f4b96b7effa536383ab"
            ],
            "layout": "IPY_MODEL_96e1865ac51a4e88bfbb0fdc4e9d525f"
          }
        },
        "b7d5537a8ea44c59a3324265f1ee238f": {
          "model_module": "@jupyter-widgets/controls",
          "model_name": "HTMLModel",
          "model_module_version": "1.5.0",
          "state": {
            "_dom_classes": [],
            "_model_module": "@jupyter-widgets/controls",
            "_model_module_version": "1.5.0",
            "_model_name": "HTMLModel",
            "_view_count": null,
            "_view_module": "@jupyter-widgets/controls",
            "_view_module_version": "1.5.0",
            "_view_name": "HTMLView",
            "description": "",
            "description_tooltip": null,
            "layout": "IPY_MODEL_fff78ffc758044f6b3f71ad1bcdc6ffc",
            "placeholder": "​",
            "style": "IPY_MODEL_8019d38ba6fa4428bd551faae1d546a7",
            "value": "Downloading pytorch_model.bin: 100%"
          }
        },
        "86a2b8d02ebc4609bdde6f4cd04a9442": {
          "model_module": "@jupyter-widgets/controls",
          "model_name": "FloatProgressModel",
          "model_module_version": "1.5.0",
          "state": {
            "_dom_classes": [],
            "_model_module": "@jupyter-widgets/controls",
            "_model_module_version": "1.5.0",
            "_model_name": "FloatProgressModel",
            "_view_count": null,
            "_view_module": "@jupyter-widgets/controls",
            "_view_module_version": "1.5.0",
            "_view_name": "ProgressView",
            "bar_style": "success",
            "description": "",
            "description_tooltip": null,
            "layout": "IPY_MODEL_81716a46a1b948388ebf101cf9b0801c",
            "max": 440473133,
            "min": 0,
            "orientation": "horizontal",
            "style": "IPY_MODEL_302fddecdfe545269b13522d6ffa22c3",
            "value": 440473133
          }
        },
        "05aeb9ee783d4f4b96b7effa536383ab": {
          "model_module": "@jupyter-widgets/controls",
          "model_name": "HTMLModel",
          "model_module_version": "1.5.0",
          "state": {
            "_dom_classes": [],
            "_model_module": "@jupyter-widgets/controls",
            "_model_module_version": "1.5.0",
            "_model_name": "HTMLModel",
            "_view_count": null,
            "_view_module": "@jupyter-widgets/controls",
            "_view_module_version": "1.5.0",
            "_view_name": "HTMLView",
            "description": "",
            "description_tooltip": null,
            "layout": "IPY_MODEL_941f75511b0b4c039c5d6c8d60cca614",
            "placeholder": "​",
            "style": "IPY_MODEL_cb1e58ac8b1a402f985e6cf001a2f640",
            "value": " 440M/440M [00:00&lt;00:00, 451MB/s]"
          }
        },
        "96e1865ac51a4e88bfbb0fdc4e9d525f": {
          "model_module": "@jupyter-widgets/base",
          "model_name": "LayoutModel",
          "model_module_version": "1.2.0",
          "state": {
            "_model_module": "@jupyter-widgets/base",
            "_model_module_version": "1.2.0",
            "_model_name": "LayoutModel",
            "_view_count": null,
            "_view_module": "@jupyter-widgets/base",
            "_view_module_version": "1.2.0",
            "_view_name": "LayoutView",
            "align_content": null,
            "align_items": null,
            "align_self": null,
            "border": null,
            "bottom": null,
            "display": null,
            "flex": null,
            "flex_flow": null,
            "grid_area": null,
            "grid_auto_columns": null,
            "grid_auto_flow": null,
            "grid_auto_rows": null,
            "grid_column": null,
            "grid_gap": null,
            "grid_row": null,
            "grid_template_areas": null,
            "grid_template_columns": null,
            "grid_template_rows": null,
            "height": null,
            "justify_content": null,
            "justify_items": null,
            "left": null,
            "margin": null,
            "max_height": null,
            "max_width": null,
            "min_height": null,
            "min_width": null,
            "object_fit": null,
            "object_position": null,
            "order": null,
            "overflow": null,
            "overflow_x": null,
            "overflow_y": null,
            "padding": null,
            "right": null,
            "top": null,
            "visibility": null,
            "width": null
          }
        },
        "fff78ffc758044f6b3f71ad1bcdc6ffc": {
          "model_module": "@jupyter-widgets/base",
          "model_name": "LayoutModel",
          "model_module_version": "1.2.0",
          "state": {
            "_model_module": "@jupyter-widgets/base",
            "_model_module_version": "1.2.0",
            "_model_name": "LayoutModel",
            "_view_count": null,
            "_view_module": "@jupyter-widgets/base",
            "_view_module_version": "1.2.0",
            "_view_name": "LayoutView",
            "align_content": null,
            "align_items": null,
            "align_self": null,
            "border": null,
            "bottom": null,
            "display": null,
            "flex": null,
            "flex_flow": null,
            "grid_area": null,
            "grid_auto_columns": null,
            "grid_auto_flow": null,
            "grid_auto_rows": null,
            "grid_column": null,
            "grid_gap": null,
            "grid_row": null,
            "grid_template_areas": null,
            "grid_template_columns": null,
            "grid_template_rows": null,
            "height": null,
            "justify_content": null,
            "justify_items": null,
            "left": null,
            "margin": null,
            "max_height": null,
            "max_width": null,
            "min_height": null,
            "min_width": null,
            "object_fit": null,
            "object_position": null,
            "order": null,
            "overflow": null,
            "overflow_x": null,
            "overflow_y": null,
            "padding": null,
            "right": null,
            "top": null,
            "visibility": null,
            "width": null
          }
        },
        "8019d38ba6fa4428bd551faae1d546a7": {
          "model_module": "@jupyter-widgets/controls",
          "model_name": "DescriptionStyleModel",
          "model_module_version": "1.5.0",
          "state": {
            "_model_module": "@jupyter-widgets/controls",
            "_model_module_version": "1.5.0",
            "_model_name": "DescriptionStyleModel",
            "_view_count": null,
            "_view_module": "@jupyter-widgets/base",
            "_view_module_version": "1.2.0",
            "_view_name": "StyleView",
            "description_width": ""
          }
        },
        "81716a46a1b948388ebf101cf9b0801c": {
          "model_module": "@jupyter-widgets/base",
          "model_name": "LayoutModel",
          "model_module_version": "1.2.0",
          "state": {
            "_model_module": "@jupyter-widgets/base",
            "_model_module_version": "1.2.0",
            "_model_name": "LayoutModel",
            "_view_count": null,
            "_view_module": "@jupyter-widgets/base",
            "_view_module_version": "1.2.0",
            "_view_name": "LayoutView",
            "align_content": null,
            "align_items": null,
            "align_self": null,
            "border": null,
            "bottom": null,
            "display": null,
            "flex": null,
            "flex_flow": null,
            "grid_area": null,
            "grid_auto_columns": null,
            "grid_auto_flow": null,
            "grid_auto_rows": null,
            "grid_column": null,
            "grid_gap": null,
            "grid_row": null,
            "grid_template_areas": null,
            "grid_template_columns": null,
            "grid_template_rows": null,
            "height": null,
            "justify_content": null,
            "justify_items": null,
            "left": null,
            "margin": null,
            "max_height": null,
            "max_width": null,
            "min_height": null,
            "min_width": null,
            "object_fit": null,
            "object_position": null,
            "order": null,
            "overflow": null,
            "overflow_x": null,
            "overflow_y": null,
            "padding": null,
            "right": null,
            "top": null,
            "visibility": null,
            "width": null
          }
        },
        "302fddecdfe545269b13522d6ffa22c3": {
          "model_module": "@jupyter-widgets/controls",
          "model_name": "ProgressStyleModel",
          "model_module_version": "1.5.0",
          "state": {
            "_model_module": "@jupyter-widgets/controls",
            "_model_module_version": "1.5.0",
            "_model_name": "ProgressStyleModel",
            "_view_count": null,
            "_view_module": "@jupyter-widgets/base",
            "_view_module_version": "1.2.0",
            "_view_name": "StyleView",
            "bar_color": null,
            "description_width": ""
          }
        },
        "941f75511b0b4c039c5d6c8d60cca614": {
          "model_module": "@jupyter-widgets/base",
          "model_name": "LayoutModel",
          "model_module_version": "1.2.0",
          "state": {
            "_model_module": "@jupyter-widgets/base",
            "_model_module_version": "1.2.0",
            "_model_name": "LayoutModel",
            "_view_count": null,
            "_view_module": "@jupyter-widgets/base",
            "_view_module_version": "1.2.0",
            "_view_name": "LayoutView",
            "align_content": null,
            "align_items": null,
            "align_self": null,
            "border": null,
            "bottom": null,
            "display": null,
            "flex": null,
            "flex_flow": null,
            "grid_area": null,
            "grid_auto_columns": null,
            "grid_auto_flow": null,
            "grid_auto_rows": null,
            "grid_column": null,
            "grid_gap": null,
            "grid_row": null,
            "grid_template_areas": null,
            "grid_template_columns": null,
            "grid_template_rows": null,
            "height": null,
            "justify_content": null,
            "justify_items": null,
            "left": null,
            "margin": null,
            "max_height": null,
            "max_width": null,
            "min_height": null,
            "min_width": null,
            "object_fit": null,
            "object_position": null,
            "order": null,
            "overflow": null,
            "overflow_x": null,
            "overflow_y": null,
            "padding": null,
            "right": null,
            "top": null,
            "visibility": null,
            "width": null
          }
        },
        "cb1e58ac8b1a402f985e6cf001a2f640": {
          "model_module": "@jupyter-widgets/controls",
          "model_name": "DescriptionStyleModel",
          "model_module_version": "1.5.0",
          "state": {
            "_model_module": "@jupyter-widgets/controls",
            "_model_module_version": "1.5.0",
            "_model_name": "DescriptionStyleModel",
            "_view_count": null,
            "_view_module": "@jupyter-widgets/base",
            "_view_module_version": "1.2.0",
            "_view_name": "StyleView",
            "description_width": ""
          }
        }
      }
    }
  },
  "nbformat": 4,
  "nbformat_minor": 0
}